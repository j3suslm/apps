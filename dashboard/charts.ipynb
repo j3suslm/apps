{
 "cells": [
  {
   "cell_type": "markdown",
   "id": "e2fd6fd5",
   "metadata": {},
   "source": [
    "# Auxiliar de codigo para graficos del tablero"
   ]
  },
  {
   "cell_type": "code",
   "execution_count": 1,
   "id": "8beaf088",
   "metadata": {},
   "outputs": [],
   "source": [
    "import numpy as np\n",
    "import pandas as pd\n",
    "import polars as pl\n",
    "import plotly.express as px\n",
    "from pathlib import Path"
   ]
  },
  {
   "cell_type": "code",
   "execution_count": 132,
   "id": "e176db01",
   "metadata": {},
   "outputs": [],
   "source": [
    "prestaciones = pd.read_excel('data.xlsx', sheet_name='prestaciones').fillna('').astype(str)\n",
    "prestaciones['Total'] = prestaciones['Total'].str.replace('.0','')"
   ]
  },
  {
   "cell_type": "code",
   "execution_count": 145,
   "id": "bdb2d6a5",
   "metadata": {},
   "outputs": [],
   "source": [
    "from great_tables import GT\n",
    "\n",
    "nacl_prestaciones = (\n",
    "    GT(prestaciones)\n",
    "    .tab_header(title='Prestaciones por Entidad Federativa', subtitle='')\n",
    "    #.cols_width(Entidad_Federativa=\"5%\",)\n",
    "    .cols_align(\n",
    "        align=\"center\",\n",
    "        columns=['Servicios Médicos','Servicios Hospitalarios','Incapacidades','Pensión por invalidez',\n",
    "        'Seguro de Vida','Fondo para el Retiro','Fondo para la Vivienda','Guarderías','Becas',\n",
    "        'Apoyos para familiares','Riesgo de trabajo','Licencias por maternidad',\n",
    "        'Licencias por paternidad','Total'],\n",
    "    )\n",
    "    .tab_options(\n",
    "        container_width=\"100%\",\n",
    "        container_height=\"100%\",\n",
    "        heading_background_color=\"#691c32\",\n",
    "        column_labels_background_color=\"#ddc9a3\",\n",
    "        source_notes_background_color=\"#ddc9a3\",\n",
    "        row_striping_include_table_body = True,\n",
    "        row_striping_background_color='#f8f8f8',\n",
    "    )\n",
    "    .opt_vertical_padding(scale=0.3)\n",
    "    .opt_horizontal_padding(scale=0.4)\n",
    "    .tab_source_note('Fuente: SESNSP-Diagnóstico Nacional 2024')\n",
    ")"
   ]
  },
  {
   "cell_type": "code",
   "execution_count": 146,
   "id": "212c4493",
   "metadata": {},
   "outputs": [
    {
     "data": {
      "text/html": [
       "<!DOCTYPE html>\n",
       "<html lang=\"en\">\n",
       "<head>\n",
       "<meta charset=\"utf-8\"/>\n",
       "</head>\n",
       "<body>\n",
       "<div id=\"glrgjbyjrb\" style=\"padding-left:0px;padding-right:0px;padding-top:10px;padding-bottom:10px;overflow-x:auto;overflow-y:auto;width:100%;height:100%;\">\n",
       "<style>\n",
       "#glrgjbyjrb table {\n",
       "          font-family: -apple-system, BlinkMacSystemFont, 'Segoe UI', Roboto, Oxygen, Ubuntu, Cantarell, 'Helvetica Neue', 'Fira Sans', 'Droid Sans', Arial, sans-serif;\n",
       "          -webkit-font-smoothing: antialiased;\n",
       "          -moz-osx-font-smoothing: grayscale;\n",
       "        }\n",
       "\n",
       "#glrgjbyjrb thead, tbody, tfoot, tr, td, th { border-style: none !important; }\n",
       " tr { background-color: transparent !important; }\n",
       "#glrgjbyjrb p { margin: 0 !important; padding: 0 !important; }\n",
       " #glrgjbyjrb .gt_table { display: table !important; border-collapse: collapse !important; line-height: normal !important; margin-left: auto !important; margin-right: auto !important; color: #333333 !important; font-size: 16px !important; font-weight: normal !important; font-style: normal !important; background-color: #FFFFFF !important; width: auto !important; border-top-style: solid !important; border-top-width: 2px !important; border-top-color: #A8A8A8 !important; border-right-style: none !important; border-right-width: 2px !important; border-right-color: #D3D3D3 !important; border-bottom-style: solid !important; border-bottom-width: 2px !important; border-bottom-color: #A8A8A8 !important; border-left-style: none !important; border-left-width: 2px !important; border-left-color: #D3D3D3 !important; }\n",
       " #glrgjbyjrb .gt_caption { padding-top: 4px !important; padding-bottom: 4px !important; }\n",
       " #glrgjbyjrb .gt_title { color: #FFFFFF !important; font-size: 125% !important; font-weight: initial !important; padding-top: 1px !important; padding-bottom: 1px !important; padding-left: 2px !important; padding-right: 2px !important; border-bottom-color: #FFFFFF !important; border-bottom-width: 0 !important; }\n",
       " #glrgjbyjrb .gt_subtitle { color: #FFFFFF !important; font-size: 85% !important; font-weight: initial !important; padding-top: 0px !important; padding-bottom: 2px !important; padding-left: 2px !important; padding-right: 2px !important; border-top-color: #FFFFFF !important; border-top-width: 0 !important; }\n",
       " #glrgjbyjrb .gt_heading { background-color: #691c32 !important; text-align: center !important; border-bottom-color: #FFFFFF !important; border-left-style: none !important; border-left-width: 1px !important; border-left-color: #D3D3D3 !important; border-right-style: none !important; border-right-width: 1px !important; border-right-color: #D3D3D3 !important; }\n",
       " #glrgjbyjrb .gt_bottom_border { border-bottom-style: solid !important; border-bottom-width: 2px !important; border-bottom-color: #D3D3D3 !important; }\n",
       " #glrgjbyjrb .gt_col_headings { border-top-style: solid !important; border-top-width: 2px !important; border-top-color: #D3D3D3 !important; border-bottom-style: solid !important; border-bottom-width: 2px !important; border-bottom-color: #D3D3D3 !important; border-left-style: none !important; border-left-width: 1px !important; border-left-color: #D3D3D3 !important; border-right-style: none !important; border-right-width: 1px !important; border-right-color: #D3D3D3 !important; }\n",
       " #glrgjbyjrb .gt_col_heading { color: #333333 !important; background-color: #ddc9a3 !important; font-size: 100% !important; font-weight: normal !important; text-transform: inherit !important; border-left-style: none !important; border-left-width: 1px !important; border-left-color: #D3D3D3 !important; border-right-style: none !important; border-right-width: 1px !important; border-right-color: #D3D3D3 !important; vertical-align: bottom !important; padding-top: 1px !important; padding-bottom: 2px !important; padding-left: 2px !important; padding-right: 2px !important; overflow-x: hidden !important; }\n",
       " #glrgjbyjrb .gt_column_spanner_outer { color: #333333 !important; background-color: #ddc9a3 !important; font-size: 100% !important; font-weight: normal !important; text-transform: inherit !important; padding-top: 0 !important; padding-bottom: 0 !important; padding-left: 4px !important; padding-right: 4px !important; }\n",
       " #glrgjbyjrb .gt_column_spanner_outer:first-child { padding-left: 0 !important; }\n",
       " #glrgjbyjrb .gt_column_spanner_outer:last-child { padding-right: 0 !important; }\n",
       " #glrgjbyjrb .gt_column_spanner { border-bottom-style: solid !important; border-bottom-width: 2px !important; border-bottom-color: #D3D3D3 !important; vertical-align: bottom !important; padding-top: 1px !important; padding-bottom: 1px !important; overflow-x: hidden !important; display: inline-block !important; width: 100% !important; }\n",
       " #glrgjbyjrb .gt_spanner_row { border-bottom-style: hidden !important; }\n",
       " #glrgjbyjrb .gt_group_heading { padding-top: 2px !important; padding-bottom: 2px !important; padding-left: 2px !important; padding-right: 2px !important; color: #333333 !important; background-color: #FFFFFF !important; font-size: 100% !important; font-weight: initial !important; text-transform: inherit !important; border-top-style: solid !important; border-top-width: 2px !important; border-top-color: #D3D3D3 !important; border-bottom-style: solid !important; border-bottom-width: 2px !important; border-bottom-color: #D3D3D3 !important; border-left-style: none !important; border-left-width: 1px !important; border-left-color: #D3D3D3 !important; border-right-style: none !important; border-right-width: 1px !important; border-right-color: #D3D3D3 !important; vertical-align: middle !important; text-align: left !important; }\n",
       " #glrgjbyjrb .gt_empty_group_heading { padding: 0.5px !important; color: #333333 !important; background-color: #FFFFFF !important; font-size: 100% !important; font-weight: initial !important; border-top-style: solid !important; border-top-width: 2px !important; border-top-color: #D3D3D3 !important; border-bottom-style: solid !important; border-bottom-width: 2px !important; border-bottom-color: #D3D3D3 !important; vertical-align: middle !important; }\n",
       " #glrgjbyjrb .gt_from_md> :first-child { margin-top: 0 !important; }\n",
       " #glrgjbyjrb .gt_from_md> :last-child { margin-bottom: 0 !important; }\n",
       " #glrgjbyjrb .gt_row { padding-top: 2px !important; padding-bottom: 2px !important; padding-left: 2px !important; padding-right: 2px !important; margin: 10px !important; border-top-style: solid !important; border-top-width: 1px !important; border-top-color: #D3D3D3 !important; border-left-style: none !important; border-left-width: 1px !important; border-left-color: #D3D3D3 !important; border-right-style: none !important; border-right-width: 1px !important; border-right-color: #D3D3D3 !important; vertical-align: middle !important; overflow-x: hidden !important; }\n",
       " #glrgjbyjrb .gt_stub { color: #333333 !important; background-color: #FFFFFF !important; font-size: 100% !important; font-weight: initial !important; text-transform: inherit !important; border-right-style: solid !important; border-right-width: 2px !important; border-right-color: #D3D3D3 !important; padding-left: 2px !important; padding-right: 2px !important; }\n",
       " #glrgjbyjrb .gt_stub_row_group { color: #333333 !important; background-color: #FFFFFF !important; font-size: 100% !important; font-weight: initial !important; text-transform: inherit !important; border-right-style: solid !important; border-right-width: 2px !important; border-right-color: #D3D3D3 !important; padding-left: 2px !important; padding-right: 2px !important; vertical-align: top !important; }\n",
       " #glrgjbyjrb .gt_row_group_first td { border-top-width: 2px !important; }\n",
       " #glrgjbyjrb .gt_row_group_first th { border-top-width: 2px !important; }\n",
       " #glrgjbyjrb .gt_striped { background-color: #f8f8f8 !important; }\n",
       " #glrgjbyjrb .gt_table_body { border-top-style: solid !important; border-top-width: 2px !important; border-top-color: #D3D3D3 !important; border-bottom-style: solid !important; border-bottom-width: 2px !important; border-bottom-color: #D3D3D3 !important; }\n",
       " #glrgjbyjrb .gt_sourcenotes { color: #333333 !important; background-color: #ddc9a3 !important; border-bottom-style: none !important; border-bottom-width: 2px !important; border-bottom-color: #D3D3D3 !important; border-left-style: none !important; border-left-width: 2px !important; border-left-color: #D3D3D3 !important; border-right-style: none !important; border-right-width: 2px !important; border-right-color: #D3D3D3 !important; }\n",
       " #glrgjbyjrb .gt_sourcenote { font-size: 90% !important; padding-top: 1px !important; padding-bottom: 1px !important; padding-left: 2px !important; padding-right: 2px !important; text-align: left !important; }\n",
       " #glrgjbyjrb .gt_left { text-align: left !important; }\n",
       " #glrgjbyjrb .gt_center { text-align: center !important; }\n",
       " #glrgjbyjrb .gt_right { text-align: right !important; font-variant-numeric: tabular-nums !important; }\n",
       " #glrgjbyjrb .gt_font_normal { font-weight: normal !important; }\n",
       " #glrgjbyjrb .gt_font_bold { font-weight: bold !important; }\n",
       " #glrgjbyjrb .gt_font_italic { font-style: italic !important; }\n",
       " #glrgjbyjrb .gt_super { font-size: 65% !important; }\n",
       " #glrgjbyjrb .gt_footnote_marks { font-size: 75% !important; vertical-align: 0.4em !important; position: initial !important; }\n",
       " #glrgjbyjrb .gt_asterisk { font-size: 100% !important; vertical-align: 0 !important; }\n",
       " \n",
       "</style>\n",
       "<table class=\"gt_table\" data-quarto-disable-processing=\"false\" data-quarto-bootstrap=\"false\">\n",
       "<thead>\n",
       "\n",
       "  <tr class=\"gt_heading\">\n",
       "    <td colspan=\"15\" class=\"gt_heading gt_title gt_font_normal\">Prestaciones por Entidad Federativa</td>\n",
       "  </tr>\n",
       "  <tr class=\"gt_heading\">\n",
       "    <td colspan=\"15\" class=\"gt_heading gt_subtitle gt_font_normal gt_bottom_border\"></td>\n",
       "  </tr>\n",
       "<tr class=\"gt_col_headings\">\n",
       "  <th class=\"gt_col_heading gt_columns_bottom_border gt_left\" rowspan=\"1\" colspan=\"1\" scope=\"col\" id=\"Entidad_Federativa\">Entidad_Federativa</th>\n",
       "  <th class=\"gt_col_heading gt_columns_bottom_border gt_center\" rowspan=\"1\" colspan=\"1\" scope=\"col\" id=\"Licencias por maternidad\">Licencias por maternidad</th>\n",
       "  <th class=\"gt_col_heading gt_columns_bottom_border gt_center\" rowspan=\"1\" colspan=\"1\" scope=\"col\" id=\"Servicios Médicos\">Servicios Médicos</th>\n",
       "  <th class=\"gt_col_heading gt_columns_bottom_border gt_center\" rowspan=\"1\" colspan=\"1\" scope=\"col\" id=\"Seguro de Vida\">Seguro de Vida</th>\n",
       "  <th class=\"gt_col_heading gt_columns_bottom_border gt_center\" rowspan=\"1\" colspan=\"1\" scope=\"col\" id=\"Incapacidades\">Incapacidades</th>\n",
       "  <th class=\"gt_col_heading gt_columns_bottom_border gt_center\" rowspan=\"1\" colspan=\"1\" scope=\"col\" id=\"Licencias por paternidad\">Licencias por paternidad</th>\n",
       "  <th class=\"gt_col_heading gt_columns_bottom_border gt_center\" rowspan=\"1\" colspan=\"1\" scope=\"col\" id=\"Pensión por invalidez\">Pensión por invalidez</th>\n",
       "  <th class=\"gt_col_heading gt_columns_bottom_border gt_center\" rowspan=\"1\" colspan=\"1\" scope=\"col\" id=\"Servicios Hospitalarios\">Servicios Hospitalarios</th>\n",
       "  <th class=\"gt_col_heading gt_columns_bottom_border gt_center\" rowspan=\"1\" colspan=\"1\" scope=\"col\" id=\"Fondo para el Retiro\">Fondo para el Retiro</th>\n",
       "  <th class=\"gt_col_heading gt_columns_bottom_border gt_center\" rowspan=\"1\" colspan=\"1\" scope=\"col\" id=\"Riesgo de trabajo\">Riesgo de trabajo</th>\n",
       "  <th class=\"gt_col_heading gt_columns_bottom_border gt_center\" rowspan=\"1\" colspan=\"1\" scope=\"col\" id=\"Guarderías\">Guarderías</th>\n",
       "  <th class=\"gt_col_heading gt_columns_bottom_border gt_center\" rowspan=\"1\" colspan=\"1\" scope=\"col\" id=\"Becas\">Becas</th>\n",
       "  <th class=\"gt_col_heading gt_columns_bottom_border gt_center\" rowspan=\"1\" colspan=\"1\" scope=\"col\" id=\"Fondo para la Vivienda\">Fondo para la Vivienda</th>\n",
       "  <th class=\"gt_col_heading gt_columns_bottom_border gt_center\" rowspan=\"1\" colspan=\"1\" scope=\"col\" id=\"Apoyos para familiares\">Apoyos para familiares</th>\n",
       "  <th class=\"gt_col_heading gt_columns_bottom_border gt_center\" rowspan=\"1\" colspan=\"1\" scope=\"col\" id=\"Total\">Total</th>\n",
       "</tr>\n",
       "</thead>\n",
       "<tbody class=\"gt_table_body\">\n",
       "  <tr>\n",
       "    <td class=\"gt_row gt_left\">Aguascalientes</td>\n",
       "    <td class=\"gt_row gt_center\">*</td>\n",
       "    <td class=\"gt_row gt_center\">*</td>\n",
       "    <td class=\"gt_row gt_center\">*</td>\n",
       "    <td class=\"gt_row gt_center\">*</td>\n",
       "    <td class=\"gt_row gt_center\">*</td>\n",
       "    <td class=\"gt_row gt_center\">*</td>\n",
       "    <td class=\"gt_row gt_center\">*</td>\n",
       "    <td class=\"gt_row gt_center\">*</td>\n",
       "    <td class=\"gt_row gt_center\">*</td>\n",
       "    <td class=\"gt_row gt_center\">*</td>\n",
       "    <td class=\"gt_row gt_center\">*</td>\n",
       "    <td class=\"gt_row gt_center\">*</td>\n",
       "    <td class=\"gt_row gt_center\"></td>\n",
       "    <td class=\"gt_row gt_center\">12</td>\n",
       "  </tr>\n",
       "  <tr>\n",
       "    <td class=\"gt_row gt_left gt_striped\">Baja california</td>\n",
       "    <td class=\"gt_row gt_center gt_striped\">*</td>\n",
       "    <td class=\"gt_row gt_center gt_striped\">*</td>\n",
       "    <td class=\"gt_row gt_center gt_striped\">*</td>\n",
       "    <td class=\"gt_row gt_center gt_striped\">*</td>\n",
       "    <td class=\"gt_row gt_center gt_striped\">*</td>\n",
       "    <td class=\"gt_row gt_center gt_striped\">*</td>\n",
       "    <td class=\"gt_row gt_center gt_striped\">*</td>\n",
       "    <td class=\"gt_row gt_center gt_striped\">*</td>\n",
       "    <td class=\"gt_row gt_center gt_striped\">*</td>\n",
       "    <td class=\"gt_row gt_center gt_striped\"></td>\n",
       "    <td class=\"gt_row gt_center gt_striped\">*</td>\n",
       "    <td class=\"gt_row gt_center gt_striped\">*</td>\n",
       "    <td class=\"gt_row gt_center gt_striped\">*</td>\n",
       "    <td class=\"gt_row gt_center gt_striped\">12</td>\n",
       "  </tr>\n",
       "  <tr>\n",
       "    <td class=\"gt_row gt_left\">Chihuahua</td>\n",
       "    <td class=\"gt_row gt_center\">*</td>\n",
       "    <td class=\"gt_row gt_center\">*</td>\n",
       "    <td class=\"gt_row gt_center\">*</td>\n",
       "    <td class=\"gt_row gt_center\">*</td>\n",
       "    <td class=\"gt_row gt_center\">*</td>\n",
       "    <td class=\"gt_row gt_center\">*</td>\n",
       "    <td class=\"gt_row gt_center\">*</td>\n",
       "    <td class=\"gt_row gt_center\">*</td>\n",
       "    <td class=\"gt_row gt_center\">*</td>\n",
       "    <td class=\"gt_row gt_center\">*</td>\n",
       "    <td class=\"gt_row gt_center\">*</td>\n",
       "    <td class=\"gt_row gt_center\"></td>\n",
       "    <td class=\"gt_row gt_center\">*</td>\n",
       "    <td class=\"gt_row gt_center\">12</td>\n",
       "  </tr>\n",
       "  <tr>\n",
       "    <td class=\"gt_row gt_left gt_striped\">Ciudad de Mexico</td>\n",
       "    <td class=\"gt_row gt_center gt_striped\">*</td>\n",
       "    <td class=\"gt_row gt_center gt_striped\">*</td>\n",
       "    <td class=\"gt_row gt_center gt_striped\">*</td>\n",
       "    <td class=\"gt_row gt_center gt_striped\">*</td>\n",
       "    <td class=\"gt_row gt_center gt_striped\">*</td>\n",
       "    <td class=\"gt_row gt_center gt_striped\">*</td>\n",
       "    <td class=\"gt_row gt_center gt_striped\">*</td>\n",
       "    <td class=\"gt_row gt_center gt_striped\">*</td>\n",
       "    <td class=\"gt_row gt_center gt_striped\">*</td>\n",
       "    <td class=\"gt_row gt_center gt_striped\">*</td>\n",
       "    <td class=\"gt_row gt_center gt_striped\"></td>\n",
       "    <td class=\"gt_row gt_center gt_striped\">*</td>\n",
       "    <td class=\"gt_row gt_center gt_striped\">*</td>\n",
       "    <td class=\"gt_row gt_center gt_striped\">12</td>\n",
       "  </tr>\n",
       "  <tr>\n",
       "    <td class=\"gt_row gt_left\">Hidalgo</td>\n",
       "    <td class=\"gt_row gt_center\">*</td>\n",
       "    <td class=\"gt_row gt_center\">*</td>\n",
       "    <td class=\"gt_row gt_center\">*</td>\n",
       "    <td class=\"gt_row gt_center\">*</td>\n",
       "    <td class=\"gt_row gt_center\">*</td>\n",
       "    <td class=\"gt_row gt_center\">*</td>\n",
       "    <td class=\"gt_row gt_center\">*</td>\n",
       "    <td class=\"gt_row gt_center\">*</td>\n",
       "    <td class=\"gt_row gt_center\">*</td>\n",
       "    <td class=\"gt_row gt_center\">*</td>\n",
       "    <td class=\"gt_row gt_center\"></td>\n",
       "    <td class=\"gt_row gt_center\">*</td>\n",
       "    <td class=\"gt_row gt_center\">*</td>\n",
       "    <td class=\"gt_row gt_center\">12</td>\n",
       "  </tr>\n",
       "  <tr>\n",
       "    <td class=\"gt_row gt_left gt_striped\">Michoacan</td>\n",
       "    <td class=\"gt_row gt_center gt_striped\">*</td>\n",
       "    <td class=\"gt_row gt_center gt_striped\">*</td>\n",
       "    <td class=\"gt_row gt_center gt_striped\">*</td>\n",
       "    <td class=\"gt_row gt_center gt_striped\">*</td>\n",
       "    <td class=\"gt_row gt_center gt_striped\">*</td>\n",
       "    <td class=\"gt_row gt_center gt_striped\">*</td>\n",
       "    <td class=\"gt_row gt_center gt_striped\">*</td>\n",
       "    <td class=\"gt_row gt_center gt_striped\">*</td>\n",
       "    <td class=\"gt_row gt_center gt_striped\">*</td>\n",
       "    <td class=\"gt_row gt_center gt_striped\">*</td>\n",
       "    <td class=\"gt_row gt_center gt_striped\">*</td>\n",
       "    <td class=\"gt_row gt_center gt_striped\">*</td>\n",
       "    <td class=\"gt_row gt_center gt_striped\"></td>\n",
       "    <td class=\"gt_row gt_center gt_striped\">12</td>\n",
       "  </tr>\n",
       "  <tr>\n",
       "    <td class=\"gt_row gt_left\">Nuevo León</td>\n",
       "    <td class=\"gt_row gt_center\">*</td>\n",
       "    <td class=\"gt_row gt_center\">*</td>\n",
       "    <td class=\"gt_row gt_center\">*</td>\n",
       "    <td class=\"gt_row gt_center\">*</td>\n",
       "    <td class=\"gt_row gt_center\">*</td>\n",
       "    <td class=\"gt_row gt_center\">*</td>\n",
       "    <td class=\"gt_row gt_center\">*</td>\n",
       "    <td class=\"gt_row gt_center\">*</td>\n",
       "    <td class=\"gt_row gt_center\">*</td>\n",
       "    <td class=\"gt_row gt_center\"></td>\n",
       "    <td class=\"gt_row gt_center\">*</td>\n",
       "    <td class=\"gt_row gt_center\">*</td>\n",
       "    <td class=\"gt_row gt_center\">*</td>\n",
       "    <td class=\"gt_row gt_center\">12</td>\n",
       "  </tr>\n",
       "  <tr>\n",
       "    <td class=\"gt_row gt_left gt_striped\">Queretaro</td>\n",
       "    <td class=\"gt_row gt_center gt_striped\">*</td>\n",
       "    <td class=\"gt_row gt_center gt_striped\">*</td>\n",
       "    <td class=\"gt_row gt_center gt_striped\">*</td>\n",
       "    <td class=\"gt_row gt_center gt_striped\">*</td>\n",
       "    <td class=\"gt_row gt_center gt_striped\">*</td>\n",
       "    <td class=\"gt_row gt_center gt_striped\">*</td>\n",
       "    <td class=\"gt_row gt_center gt_striped\">*</td>\n",
       "    <td class=\"gt_row gt_center gt_striped\">*</td>\n",
       "    <td class=\"gt_row gt_center gt_striped\">*</td>\n",
       "    <td class=\"gt_row gt_center gt_striped\">*</td>\n",
       "    <td class=\"gt_row gt_center gt_striped\">*</td>\n",
       "    <td class=\"gt_row gt_center gt_striped\">*</td>\n",
       "    <td class=\"gt_row gt_center gt_striped\"></td>\n",
       "    <td class=\"gt_row gt_center gt_striped\">12</td>\n",
       "  </tr>\n",
       "  <tr>\n",
       "    <td class=\"gt_row gt_left\">Quintana Roo</td>\n",
       "    <td class=\"gt_row gt_center\">*</td>\n",
       "    <td class=\"gt_row gt_center\">*</td>\n",
       "    <td class=\"gt_row gt_center\">*</td>\n",
       "    <td class=\"gt_row gt_center\">*</td>\n",
       "    <td class=\"gt_row gt_center\">*</td>\n",
       "    <td class=\"gt_row gt_center\">*</td>\n",
       "    <td class=\"gt_row gt_center\"></td>\n",
       "    <td class=\"gt_row gt_center\">*</td>\n",
       "    <td class=\"gt_row gt_center\">*</td>\n",
       "    <td class=\"gt_row gt_center\">*</td>\n",
       "    <td class=\"gt_row gt_center\">*</td>\n",
       "    <td class=\"gt_row gt_center\">*</td>\n",
       "    <td class=\"gt_row gt_center\">*</td>\n",
       "    <td class=\"gt_row gt_center\">12</td>\n",
       "  </tr>\n",
       "  <tr>\n",
       "    <td class=\"gt_row gt_left gt_striped\">Veracruz</td>\n",
       "    <td class=\"gt_row gt_center gt_striped\">*</td>\n",
       "    <td class=\"gt_row gt_center gt_striped\">*</td>\n",
       "    <td class=\"gt_row gt_center gt_striped\">*</td>\n",
       "    <td class=\"gt_row gt_center gt_striped\">*</td>\n",
       "    <td class=\"gt_row gt_center gt_striped\">*</td>\n",
       "    <td class=\"gt_row gt_center gt_striped\">*</td>\n",
       "    <td class=\"gt_row gt_center gt_striped\">*</td>\n",
       "    <td class=\"gt_row gt_center gt_striped\">*</td>\n",
       "    <td class=\"gt_row gt_center gt_striped\">*</td>\n",
       "    <td class=\"gt_row gt_center gt_striped\">*</td>\n",
       "    <td class=\"gt_row gt_center gt_striped\">*</td>\n",
       "    <td class=\"gt_row gt_center gt_striped\"></td>\n",
       "    <td class=\"gt_row gt_center gt_striped\">*</td>\n",
       "    <td class=\"gt_row gt_center gt_striped\">12</td>\n",
       "  </tr>\n",
       "  <tr>\n",
       "    <td class=\"gt_row gt_left\">Colima</td>\n",
       "    <td class=\"gt_row gt_center\">*</td>\n",
       "    <td class=\"gt_row gt_center\">*</td>\n",
       "    <td class=\"gt_row gt_center\">*</td>\n",
       "    <td class=\"gt_row gt_center\">*</td>\n",
       "    <td class=\"gt_row gt_center\">*</td>\n",
       "    <td class=\"gt_row gt_center\">*</td>\n",
       "    <td class=\"gt_row gt_center\">*</td>\n",
       "    <td class=\"gt_row gt_center\">*</td>\n",
       "    <td class=\"gt_row gt_center\">*</td>\n",
       "    <td class=\"gt_row gt_center\">*</td>\n",
       "    <td class=\"gt_row gt_center\">*</td>\n",
       "    <td class=\"gt_row gt_center\"></td>\n",
       "    <td class=\"gt_row gt_center\"></td>\n",
       "    <td class=\"gt_row gt_center\">11</td>\n",
       "  </tr>\n",
       "  <tr>\n",
       "    <td class=\"gt_row gt_left gt_striped\">México</td>\n",
       "    <td class=\"gt_row gt_center gt_striped\">*</td>\n",
       "    <td class=\"gt_row gt_center gt_striped\">*</td>\n",
       "    <td class=\"gt_row gt_center gt_striped\">*</td>\n",
       "    <td class=\"gt_row gt_center gt_striped\">*</td>\n",
       "    <td class=\"gt_row gt_center gt_striped\">*</td>\n",
       "    <td class=\"gt_row gt_center gt_striped\">*</td>\n",
       "    <td class=\"gt_row gt_center gt_striped\">*</td>\n",
       "    <td class=\"gt_row gt_center gt_striped\">*</td>\n",
       "    <td class=\"gt_row gt_center gt_striped\">*</td>\n",
       "    <td class=\"gt_row gt_center gt_striped\">*</td>\n",
       "    <td class=\"gt_row gt_center gt_striped\"></td>\n",
       "    <td class=\"gt_row gt_center gt_striped\">*</td>\n",
       "    <td class=\"gt_row gt_center gt_striped\"></td>\n",
       "    <td class=\"gt_row gt_center gt_striped\">11</td>\n",
       "  </tr>\n",
       "  <tr>\n",
       "    <td class=\"gt_row gt_left\">Guanajuato</td>\n",
       "    <td class=\"gt_row gt_center\">*</td>\n",
       "    <td class=\"gt_row gt_center\">*</td>\n",
       "    <td class=\"gt_row gt_center\">*</td>\n",
       "    <td class=\"gt_row gt_center\">*</td>\n",
       "    <td class=\"gt_row gt_center\">*</td>\n",
       "    <td class=\"gt_row gt_center\">*</td>\n",
       "    <td class=\"gt_row gt_center\">*</td>\n",
       "    <td class=\"gt_row gt_center\">*</td>\n",
       "    <td class=\"gt_row gt_center\">*</td>\n",
       "    <td class=\"gt_row gt_center\"></td>\n",
       "    <td class=\"gt_row gt_center\">*</td>\n",
       "    <td class=\"gt_row gt_center\"></td>\n",
       "    <td class=\"gt_row gt_center\">*</td>\n",
       "    <td class=\"gt_row gt_center\">11</td>\n",
       "  </tr>\n",
       "  <tr>\n",
       "    <td class=\"gt_row gt_left gt_striped\">Morelos</td>\n",
       "    <td class=\"gt_row gt_center gt_striped\">*</td>\n",
       "    <td class=\"gt_row gt_center gt_striped\">*</td>\n",
       "    <td class=\"gt_row gt_center gt_striped\">*</td>\n",
       "    <td class=\"gt_row gt_center gt_striped\">*</td>\n",
       "    <td class=\"gt_row gt_center gt_striped\">*</td>\n",
       "    <td class=\"gt_row gt_center gt_striped\">*</td>\n",
       "    <td class=\"gt_row gt_center gt_striped\">*</td>\n",
       "    <td class=\"gt_row gt_center gt_striped\">*</td>\n",
       "    <td class=\"gt_row gt_center gt_striped\">*</td>\n",
       "    <td class=\"gt_row gt_center gt_striped\">*</td>\n",
       "    <td class=\"gt_row gt_center gt_striped\"></td>\n",
       "    <td class=\"gt_row gt_center gt_striped\"></td>\n",
       "    <td class=\"gt_row gt_center gt_striped\">*</td>\n",
       "    <td class=\"gt_row gt_center gt_striped\">11</td>\n",
       "  </tr>\n",
       "  <tr>\n",
       "    <td class=\"gt_row gt_left\">Tabasco</td>\n",
       "    <td class=\"gt_row gt_center\">*</td>\n",
       "    <td class=\"gt_row gt_center\">*</td>\n",
       "    <td class=\"gt_row gt_center\">*</td>\n",
       "    <td class=\"gt_row gt_center\">*</td>\n",
       "    <td class=\"gt_row gt_center\">*</td>\n",
       "    <td class=\"gt_row gt_center\">*</td>\n",
       "    <td class=\"gt_row gt_center\">*</td>\n",
       "    <td class=\"gt_row gt_center\">*</td>\n",
       "    <td class=\"gt_row gt_center\">*</td>\n",
       "    <td class=\"gt_row gt_center\">*</td>\n",
       "    <td class=\"gt_row gt_center\"></td>\n",
       "    <td class=\"gt_row gt_center\"></td>\n",
       "    <td class=\"gt_row gt_center\">*</td>\n",
       "    <td class=\"gt_row gt_center\">11</td>\n",
       "  </tr>\n",
       "  <tr>\n",
       "    <td class=\"gt_row gt_left gt_striped\">Tlaxcala</td>\n",
       "    <td class=\"gt_row gt_center gt_striped\">*</td>\n",
       "    <td class=\"gt_row gt_center gt_striped\">*</td>\n",
       "    <td class=\"gt_row gt_center gt_striped\">*</td>\n",
       "    <td class=\"gt_row gt_center gt_striped\">*</td>\n",
       "    <td class=\"gt_row gt_center gt_striped\">*</td>\n",
       "    <td class=\"gt_row gt_center gt_striped\">*</td>\n",
       "    <td class=\"gt_row gt_center gt_striped\">*</td>\n",
       "    <td class=\"gt_row gt_center gt_striped\">*</td>\n",
       "    <td class=\"gt_row gt_center gt_striped\">*</td>\n",
       "    <td class=\"gt_row gt_center gt_striped\"></td>\n",
       "    <td class=\"gt_row gt_center gt_striped\">*</td>\n",
       "    <td class=\"gt_row gt_center gt_striped\">*</td>\n",
       "    <td class=\"gt_row gt_center gt_striped\"></td>\n",
       "    <td class=\"gt_row gt_center gt_striped\">11</td>\n",
       "  </tr>\n",
       "  <tr>\n",
       "    <td class=\"gt_row gt_left\">Yucatán</td>\n",
       "    <td class=\"gt_row gt_center\">*</td>\n",
       "    <td class=\"gt_row gt_center\">*</td>\n",
       "    <td class=\"gt_row gt_center\">*</td>\n",
       "    <td class=\"gt_row gt_center\">*</td>\n",
       "    <td class=\"gt_row gt_center\">*</td>\n",
       "    <td class=\"gt_row gt_center\">*</td>\n",
       "    <td class=\"gt_row gt_center\">*</td>\n",
       "    <td class=\"gt_row gt_center\">*</td>\n",
       "    <td class=\"gt_row gt_center\"></td>\n",
       "    <td class=\"gt_row gt_center\">*</td>\n",
       "    <td class=\"gt_row gt_center\">*</td>\n",
       "    <td class=\"gt_row gt_center\">*</td>\n",
       "    <td class=\"gt_row gt_center\"></td>\n",
       "    <td class=\"gt_row gt_center\">11</td>\n",
       "  </tr>\n",
       "  <tr>\n",
       "    <td class=\"gt_row gt_left gt_striped\">Puebla</td>\n",
       "    <td class=\"gt_row gt_center gt_striped\">*</td>\n",
       "    <td class=\"gt_row gt_center gt_striped\">*</td>\n",
       "    <td class=\"gt_row gt_center gt_striped\">*</td>\n",
       "    <td class=\"gt_row gt_center gt_striped\">*</td>\n",
       "    <td class=\"gt_row gt_center gt_striped\">*</td>\n",
       "    <td class=\"gt_row gt_center gt_striped\">*</td>\n",
       "    <td class=\"gt_row gt_center gt_striped\">*</td>\n",
       "    <td class=\"gt_row gt_center gt_striped\">*</td>\n",
       "    <td class=\"gt_row gt_center gt_striped\"></td>\n",
       "    <td class=\"gt_row gt_center gt_striped\">*</td>\n",
       "    <td class=\"gt_row gt_center gt_striped\">*</td>\n",
       "    <td class=\"gt_row gt_center gt_striped\"></td>\n",
       "    <td class=\"gt_row gt_center gt_striped\"></td>\n",
       "    <td class=\"gt_row gt_center gt_striped\">10</td>\n",
       "  </tr>\n",
       "  <tr>\n",
       "    <td class=\"gt_row gt_left\">San Luis Potosi</td>\n",
       "    <td class=\"gt_row gt_center\">*</td>\n",
       "    <td class=\"gt_row gt_center\">*</td>\n",
       "    <td class=\"gt_row gt_center\">*</td>\n",
       "    <td class=\"gt_row gt_center\">*</td>\n",
       "    <td class=\"gt_row gt_center\">*</td>\n",
       "    <td class=\"gt_row gt_center\">*</td>\n",
       "    <td class=\"gt_row gt_center\">*</td>\n",
       "    <td class=\"gt_row gt_center\">*</td>\n",
       "    <td class=\"gt_row gt_center\">*</td>\n",
       "    <td class=\"gt_row gt_center\"></td>\n",
       "    <td class=\"gt_row gt_center\"></td>\n",
       "    <td class=\"gt_row gt_center\">*</td>\n",
       "    <td class=\"gt_row gt_center\"></td>\n",
       "    <td class=\"gt_row gt_center\">10</td>\n",
       "  </tr>\n",
       "  <tr>\n",
       "    <td class=\"gt_row gt_left gt_striped\">Sinaloa</td>\n",
       "    <td class=\"gt_row gt_center gt_striped\">*</td>\n",
       "    <td class=\"gt_row gt_center gt_striped\">*</td>\n",
       "    <td class=\"gt_row gt_center gt_striped\">*</td>\n",
       "    <td class=\"gt_row gt_center gt_striped\">*</td>\n",
       "    <td class=\"gt_row gt_center gt_striped\">*</td>\n",
       "    <td class=\"gt_row gt_center gt_striped\">*</td>\n",
       "    <td class=\"gt_row gt_center gt_striped\">*</td>\n",
       "    <td class=\"gt_row gt_center gt_striped\"></td>\n",
       "    <td class=\"gt_row gt_center gt_striped\">*</td>\n",
       "    <td class=\"gt_row gt_center gt_striped\"></td>\n",
       "    <td class=\"gt_row gt_center gt_striped\">*</td>\n",
       "    <td class=\"gt_row gt_center gt_striped\"></td>\n",
       "    <td class=\"gt_row gt_center gt_striped\">*</td>\n",
       "    <td class=\"gt_row gt_center gt_striped\">10</td>\n",
       "  </tr>\n",
       "  <tr>\n",
       "    <td class=\"gt_row gt_left\">Sonora</td>\n",
       "    <td class=\"gt_row gt_center\">*</td>\n",
       "    <td class=\"gt_row gt_center\">*</td>\n",
       "    <td class=\"gt_row gt_center\">*</td>\n",
       "    <td class=\"gt_row gt_center\">*</td>\n",
       "    <td class=\"gt_row gt_center\">*</td>\n",
       "    <td class=\"gt_row gt_center\">*</td>\n",
       "    <td class=\"gt_row gt_center\">*</td>\n",
       "    <td class=\"gt_row gt_center\">*</td>\n",
       "    <td class=\"gt_row gt_center\">*</td>\n",
       "    <td class=\"gt_row gt_center\"></td>\n",
       "    <td class=\"gt_row gt_center\"></td>\n",
       "    <td class=\"gt_row gt_center\"></td>\n",
       "    <td class=\"gt_row gt_center\"></td>\n",
       "    <td class=\"gt_row gt_center\">9</td>\n",
       "  </tr>\n",
       "  <tr>\n",
       "    <td class=\"gt_row gt_left gt_striped\">Tamaulipas</td>\n",
       "    <td class=\"gt_row gt_center gt_striped\">*</td>\n",
       "    <td class=\"gt_row gt_center gt_striped\">*</td>\n",
       "    <td class=\"gt_row gt_center gt_striped\">*</td>\n",
       "    <td class=\"gt_row gt_center gt_striped\">*</td>\n",
       "    <td class=\"gt_row gt_center gt_striped\">*</td>\n",
       "    <td class=\"gt_row gt_center gt_striped\"></td>\n",
       "    <td class=\"gt_row gt_center gt_striped\">*</td>\n",
       "    <td class=\"gt_row gt_center gt_striped\"></td>\n",
       "    <td class=\"gt_row gt_center gt_striped\"></td>\n",
       "    <td class=\"gt_row gt_center gt_striped\">*</td>\n",
       "    <td class=\"gt_row gt_center gt_striped\">*</td>\n",
       "    <td class=\"gt_row gt_center gt_striped\"></td>\n",
       "    <td class=\"gt_row gt_center gt_striped\">*</td>\n",
       "    <td class=\"gt_row gt_center gt_striped\">9</td>\n",
       "  </tr>\n",
       "  <tr>\n",
       "    <td class=\"gt_row gt_left\">Chiapas</td>\n",
       "    <td class=\"gt_row gt_center\">*</td>\n",
       "    <td class=\"gt_row gt_center\">*</td>\n",
       "    <td class=\"gt_row gt_center\">*</td>\n",
       "    <td class=\"gt_row gt_center\">*</td>\n",
       "    <td class=\"gt_row gt_center\">*</td>\n",
       "    <td class=\"gt_row gt_center\">*</td>\n",
       "    <td class=\"gt_row gt_center\">*</td>\n",
       "    <td class=\"gt_row gt_center\"></td>\n",
       "    <td class=\"gt_row gt_center\">*</td>\n",
       "    <td class=\"gt_row gt_center\"></td>\n",
       "    <td class=\"gt_row gt_center\"></td>\n",
       "    <td class=\"gt_row gt_center\"></td>\n",
       "    <td class=\"gt_row gt_center\"></td>\n",
       "    <td class=\"gt_row gt_center\">8</td>\n",
       "  </tr>\n",
       "  <tr>\n",
       "    <td class=\"gt_row gt_left gt_striped\">Durango</td>\n",
       "    <td class=\"gt_row gt_center gt_striped\">*</td>\n",
       "    <td class=\"gt_row gt_center gt_striped\">*</td>\n",
       "    <td class=\"gt_row gt_center gt_striped\">*</td>\n",
       "    <td class=\"gt_row gt_center gt_striped\">*</td>\n",
       "    <td class=\"gt_row gt_center gt_striped\">*</td>\n",
       "    <td class=\"gt_row gt_center gt_striped\"></td>\n",
       "    <td class=\"gt_row gt_center gt_striped\">*</td>\n",
       "    <td class=\"gt_row gt_center gt_striped\">*</td>\n",
       "    <td class=\"gt_row gt_center gt_striped\">*</td>\n",
       "    <td class=\"gt_row gt_center gt_striped\"></td>\n",
       "    <td class=\"gt_row gt_center gt_striped\"></td>\n",
       "    <td class=\"gt_row gt_center gt_striped\"></td>\n",
       "    <td class=\"gt_row gt_center gt_striped\"></td>\n",
       "    <td class=\"gt_row gt_center gt_striped\">8</td>\n",
       "  </tr>\n",
       "  <tr>\n",
       "    <td class=\"gt_row gt_left\">Oaxaca</td>\n",
       "    <td class=\"gt_row gt_center\">*</td>\n",
       "    <td class=\"gt_row gt_center\">*</td>\n",
       "    <td class=\"gt_row gt_center\">*</td>\n",
       "    <td class=\"gt_row gt_center\">*</td>\n",
       "    <td class=\"gt_row gt_center\"></td>\n",
       "    <td class=\"gt_row gt_center\">*</td>\n",
       "    <td class=\"gt_row gt_center\">*</td>\n",
       "    <td class=\"gt_row gt_center\"></td>\n",
       "    <td class=\"gt_row gt_center\">*</td>\n",
       "    <td class=\"gt_row gt_center\">*</td>\n",
       "    <td class=\"gt_row gt_center\"></td>\n",
       "    <td class=\"gt_row gt_center\"></td>\n",
       "    <td class=\"gt_row gt_center\"></td>\n",
       "    <td class=\"gt_row gt_center\">8</td>\n",
       "  </tr>\n",
       "  <tr>\n",
       "    <td class=\"gt_row gt_left gt_striped\">Jalisco</td>\n",
       "    <td class=\"gt_row gt_center gt_striped\">*</td>\n",
       "    <td class=\"gt_row gt_center gt_striped\">*</td>\n",
       "    <td class=\"gt_row gt_center gt_striped\">*</td>\n",
       "    <td class=\"gt_row gt_center gt_striped\"></td>\n",
       "    <td class=\"gt_row gt_center gt_striped\">*</td>\n",
       "    <td class=\"gt_row gt_center gt_striped\"></td>\n",
       "    <td class=\"gt_row gt_center gt_striped\"></td>\n",
       "    <td class=\"gt_row gt_center gt_striped\">*</td>\n",
       "    <td class=\"gt_row gt_center gt_striped\"></td>\n",
       "    <td class=\"gt_row gt_center gt_striped\"></td>\n",
       "    <td class=\"gt_row gt_center gt_striped\">*</td>\n",
       "    <td class=\"gt_row gt_center gt_striped\">*</td>\n",
       "    <td class=\"gt_row gt_center gt_striped\"></td>\n",
       "    <td class=\"gt_row gt_center gt_striped\">7</td>\n",
       "  </tr>\n",
       "  <tr>\n",
       "    <td class=\"gt_row gt_left\">Nayarit</td>\n",
       "    <td class=\"gt_row gt_center\">*</td>\n",
       "    <td class=\"gt_row gt_center\">*</td>\n",
       "    <td class=\"gt_row gt_center\">*</td>\n",
       "    <td class=\"gt_row gt_center\">*</td>\n",
       "    <td class=\"gt_row gt_center\"></td>\n",
       "    <td class=\"gt_row gt_center\">*</td>\n",
       "    <td class=\"gt_row gt_center\">*</td>\n",
       "    <td class=\"gt_row gt_center\">*</td>\n",
       "    <td class=\"gt_row gt_center\"></td>\n",
       "    <td class=\"gt_row gt_center\"></td>\n",
       "    <td class=\"gt_row gt_center\"></td>\n",
       "    <td class=\"gt_row gt_center\"></td>\n",
       "    <td class=\"gt_row gt_center\"></td>\n",
       "    <td class=\"gt_row gt_center\">7</td>\n",
       "  </tr>\n",
       "  <tr>\n",
       "    <td class=\"gt_row gt_left gt_striped\">Campeche</td>\n",
       "    <td class=\"gt_row gt_center gt_striped\">*</td>\n",
       "    <td class=\"gt_row gt_center gt_striped\">*</td>\n",
       "    <td class=\"gt_row gt_center gt_striped\">*</td>\n",
       "    <td class=\"gt_row gt_center gt_striped\">*</td>\n",
       "    <td class=\"gt_row gt_center gt_striped\">*</td>\n",
       "    <td class=\"gt_row gt_center gt_striped\">*</td>\n",
       "    <td class=\"gt_row gt_center gt_striped\"></td>\n",
       "    <td class=\"gt_row gt_center gt_striped\"></td>\n",
       "    <td class=\"gt_row gt_center gt_striped\"></td>\n",
       "    <td class=\"gt_row gt_center gt_striped\"></td>\n",
       "    <td class=\"gt_row gt_center gt_striped\"></td>\n",
       "    <td class=\"gt_row gt_center gt_striped\"></td>\n",
       "    <td class=\"gt_row gt_center gt_striped\"></td>\n",
       "    <td class=\"gt_row gt_center gt_striped\">6</td>\n",
       "  </tr>\n",
       "  <tr>\n",
       "    <td class=\"gt_row gt_left\">Coahuila</td>\n",
       "    <td class=\"gt_row gt_center\">*</td>\n",
       "    <td class=\"gt_row gt_center\"></td>\n",
       "    <td class=\"gt_row gt_center\"></td>\n",
       "    <td class=\"gt_row gt_center\">*</td>\n",
       "    <td class=\"gt_row gt_center\">*</td>\n",
       "    <td class=\"gt_row gt_center\">*</td>\n",
       "    <td class=\"gt_row gt_center\"></td>\n",
       "    <td class=\"gt_row gt_center\"></td>\n",
       "    <td class=\"gt_row gt_center\"></td>\n",
       "    <td class=\"gt_row gt_center\"></td>\n",
       "    <td class=\"gt_row gt_center\"></td>\n",
       "    <td class=\"gt_row gt_center\"></td>\n",
       "    <td class=\"gt_row gt_center\">*</td>\n",
       "    <td class=\"gt_row gt_center\">5</td>\n",
       "  </tr>\n",
       "  <tr>\n",
       "    <td class=\"gt_row gt_left gt_striped\">Guerrero</td>\n",
       "    <td class=\"gt_row gt_center gt_striped\">*</td>\n",
       "    <td class=\"gt_row gt_center gt_striped\">*</td>\n",
       "    <td class=\"gt_row gt_center gt_striped\">*</td>\n",
       "    <td class=\"gt_row gt_center gt_striped\"></td>\n",
       "    <td class=\"gt_row gt_center gt_striped\">*</td>\n",
       "    <td class=\"gt_row gt_center gt_striped\"></td>\n",
       "    <td class=\"gt_row gt_center gt_striped\"></td>\n",
       "    <td class=\"gt_row gt_center gt_striped\">*</td>\n",
       "    <td class=\"gt_row gt_center gt_striped\"></td>\n",
       "    <td class=\"gt_row gt_center gt_striped\"></td>\n",
       "    <td class=\"gt_row gt_center gt_striped\"></td>\n",
       "    <td class=\"gt_row gt_center gt_striped\"></td>\n",
       "    <td class=\"gt_row gt_center gt_striped\"></td>\n",
       "    <td class=\"gt_row gt_center gt_striped\">5</td>\n",
       "  </tr>\n",
       "  <tr>\n",
       "    <td class=\"gt_row gt_left\">Total</td>\n",
       "    <td class=\"gt_row gt_center\">30</td>\n",
       "    <td class=\"gt_row gt_center\">29</td>\n",
       "    <td class=\"gt_row gt_center\">29</td>\n",
       "    <td class=\"gt_row gt_center\">28</td>\n",
       "    <td class=\"gt_row gt_center\">28</td>\n",
       "    <td class=\"gt_row gt_center\">26</td>\n",
       "    <td class=\"gt_row gt_center\">25</td>\n",
       "    <td class=\"gt_row gt_center\">24</td>\n",
       "    <td class=\"gt_row gt_center\">22</td>\n",
       "    <td class=\"gt_row gt_center\">16</td>\n",
       "    <td class=\"gt_row gt_center\">16</td>\n",
       "    <td class=\"gt_row gt_center\">13</td>\n",
       "    <td class=\"gt_row gt_center\">13</td>\n",
       "    <td class=\"gt_row gt_center\"></td>\n",
       "  </tr>\n",
       "</tbody>\n",
       "  <tfoot class=\"gt_sourcenotes\">\n",
       "  \n",
       "  <tr>\n",
       "    <td class=\"gt_sourcenote\" colspan=\"15\">Fuente: SESNSP-Diagnóstico Nacional 2024</td>\n",
       "  </tr>\n",
       "\n",
       "</tfoot>\n",
       "\n",
       "</table>\n",
       "\n",
       "</div>\n",
       "        \n",
       "</body>\n",
       "</html>\n",
       "            "
      ],
      "text/plain": [
       "GT(_tbl_data=   Entidad_Federativa Licencias por maternidad  ... Apoyos para familiares Total\n",
       "0      Aguascalientes                        *  ...                           12\n",
       "1     Baja california                        *  ...                      *    12\n",
       "2           Chihuahua                        *  ...                      *    12\n",
       "3    Ciudad de Mexico                        *  ...                      *    12\n",
       "4             Hidalgo                        *  ...                      *    12\n",
       "5           Michoacan                        *  ...                           12\n",
       "6          Nuevo León                        *  ...                      *    12\n",
       "7           Queretaro                        *  ...                           12\n",
       "8        Quintana Roo                        *  ...                      *    12\n",
       "9            Veracruz                        *  ...                      *    12\n",
       "10             Colima                        *  ...                           11\n",
       "11             México                        *  ...                           11\n",
       "12         Guanajuato                        *  ...                      *    11\n",
       "13            Morelos                        *  ...                      *    11\n",
       "14            Tabasco                        *  ...                      *    11\n",
       "15           Tlaxcala                        *  ...                           11\n",
       "16            Yucatán                        *  ...                           11\n",
       "17             Puebla                        *  ...                           10\n",
       "18    San Luis Potosi                        *  ...                           10\n",
       "19            Sinaloa                        *  ...                      *    10\n",
       "20             Sonora                        *  ...                            9\n",
       "21         Tamaulipas                        *  ...                      *     9\n",
       "22            Chiapas                        *  ...                            8\n",
       "23            Durango                        *  ...                            8\n",
       "24             Oaxaca                        *  ...                            8\n",
       "25            Jalisco                        *  ...                            7\n",
       "26            Nayarit                        *  ...                            7\n",
       "27           Campeche                        *  ...                            6\n",
       "28           Coahuila                        *  ...                      *     5\n",
       "29           Guerrero                        *  ...                            5\n",
       "30              Total                       30  ...                     13      \n",
       "\n",
       "[31 rows x 15 columns], _body=<great_tables._gt_data.Body object at 0x30101bc80>, _boxhead=Boxhead([ColInfo(var='Entidad_Federativa', type=<ColInfoTypeEnum.default: 1>, column_label='Entidad_Federativa', column_align='left', column_width=None), ColInfo(var='Licencias por maternidad', type=<ColInfoTypeEnum.default: 1>, column_label='Licencias por maternidad', column_align='center', column_width=None), ColInfo(var='Servicios Médicos', type=<ColInfoTypeEnum.default: 1>, column_label='Servicios Médicos', column_align='center', column_width=None), ColInfo(var='Seguro de Vida', type=<ColInfoTypeEnum.default: 1>, column_label='Seguro de Vida', column_align='center', column_width=None), ColInfo(var='Incapacidades', type=<ColInfoTypeEnum.default: 1>, column_label='Incapacidades', column_align='center', column_width=None), ColInfo(var='Licencias por paternidad', type=<ColInfoTypeEnum.default: 1>, column_label='Licencias por paternidad', column_align='center', column_width=None), ColInfo(var='Pensión por invalidez', type=<ColInfoTypeEnum.default: 1>, column_label='Pensión por invalidez', column_align='center', column_width=None), ColInfo(var='Servicios Hospitalarios', type=<ColInfoTypeEnum.default: 1>, column_label='Servicios Hospitalarios', column_align='center', column_width=None), ColInfo(var='Fondo para el Retiro', type=<ColInfoTypeEnum.default: 1>, column_label='Fondo para el Retiro', column_align='center', column_width=None), ColInfo(var='Riesgo de trabajo', type=<ColInfoTypeEnum.default: 1>, column_label='Riesgo de trabajo', column_align='center', column_width=None), ColInfo(var='Guarderías', type=<ColInfoTypeEnum.default: 1>, column_label='Guarderías', column_align='center', column_width=None), ColInfo(var='Becas', type=<ColInfoTypeEnum.default: 1>, column_label='Becas', column_align='center', column_width=None), ColInfo(var='Fondo para la Vivienda', type=<ColInfoTypeEnum.default: 1>, column_label='Fondo para la Vivienda', column_align='center', column_width=None), ColInfo(var='Apoyos para familiares', type=<ColInfoTypeEnum.default: 1>, column_label='Apoyos para familiares', column_align='center', column_width=None), ColInfo(var='Total', type=<ColInfoTypeEnum.default: 1>, column_label='Total', column_align='center', column_width=None)]), _stub=<great_tables._gt_data.Stub object at 0x17cc032f0>, _spanners=Spanners([]), _heading=Heading(title='Prestaciones por Entidad Federativa', subtitle='', preheader=None), _stubhead=None, _source_notes=['Fuente: SESNSP-Diagnóstico Nacional 2024'], _footnotes=[], _styles=[], _locale=<great_tables._gt_data.Locale object at 0x300f8b320>, _formats=[], _substitutions=[], _options=Options(table_id=OptionsInfo(scss=False, category='table', type='value', value=None), table_caption=OptionsInfo(scss=False, category='table', type='value', value=None), table_width=OptionsInfo(scss=True, category='table', type='px', value='auto'), table_layout=OptionsInfo(scss=True, category='table', type='value', value='fixed'), table_margin_left=OptionsInfo(scss=True, category='table', type='px', value='auto'), table_margin_right=OptionsInfo(scss=True, category='table', type='px', value='auto'), table_background_color=OptionsInfo(scss=True, category='table', type='value', value='#FFFFFF'), table_additional_css=OptionsInfo(scss=False, category='table', type='values', value=[]), table_font_names=OptionsInfo(scss=False, category='table', type='values', value=['-apple-system', 'BlinkMacSystemFont', 'Segoe UI', 'Roboto', 'Oxygen', 'Ubuntu', 'Cantarell', 'Helvetica Neue', 'Fira Sans', 'Droid Sans', 'Arial', 'sans-serif']), table_font_size=OptionsInfo(scss=True, category='table', type='px', value='16px'), table_font_weight=OptionsInfo(scss=True, category='table', type='value', value='normal'), table_font_style=OptionsInfo(scss=True, category='table', type='value', value='normal'), table_font_color=OptionsInfo(scss=True, category='table', type='value', value='#333333'), table_font_color_light=OptionsInfo(scss=True, category='table', type='value', value='#FFFFFF'), table_border_top_include=OptionsInfo(scss=False, category='table', type='boolean', value=True), table_border_top_style=OptionsInfo(scss=True, category='table', type='value', value='solid'), table_border_top_width=OptionsInfo(scss=True, category='table', type='px', value='2px'), table_border_top_color=OptionsInfo(scss=True, category='table', type='value', value='#A8A8A8'), table_border_right_style=OptionsInfo(scss=True, category='table', type='value', value='none'), table_border_right_width=OptionsInfo(scss=True, category='table', type='px', value='2px'), table_border_right_color=OptionsInfo(scss=True, category='table', type='value', value='#D3D3D3'), table_border_bottom_include=OptionsInfo(scss=False, category='table', type='boolean', value=True), table_border_bottom_style=OptionsInfo(scss=True, category='table', type='value', value='solid'), table_border_bottom_width=OptionsInfo(scss=True, category='table', type='px', value='2px'), table_border_bottom_color=OptionsInfo(scss=True, category='table', type='value', value='#A8A8A8'), table_border_left_style=OptionsInfo(scss=True, category='table', type='value', value='none'), table_border_left_width=OptionsInfo(scss=True, category='table', type='px', value='2px'), table_border_left_color=OptionsInfo(scss=True, category='table', type='value', value='#D3D3D3'), heading_background_color=OptionsInfo(scss=True, category='heading', type='value', value='#691c32'), heading_align=OptionsInfo(scss=True, category='heading', type='value', value='center'), heading_title_font_size=OptionsInfo(scss=True, category='heading', type='px', value='125%'), heading_title_font_weight=OptionsInfo(scss=True, category='heading', type='value', value='initial'), heading_subtitle_font_size=OptionsInfo(scss=True, category='heading', type='px', value='85%'), heading_subtitle_font_weight=OptionsInfo(scss=True, category='heading', type='value', value='initial'), heading_padding=OptionsInfo(scss=True, category='heading', type='px', value='1px'), heading_padding_horizontal=OptionsInfo(scss=True, category='heading', type='px', value='2px'), heading_border_bottom_style=OptionsInfo(scss=True, category='heading', type='value', value='solid'), heading_border_bottom_width=OptionsInfo(scss=True, category='heading', type='px', value='2px'), heading_border_bottom_color=OptionsInfo(scss=True, category='heading', type='value', value='#D3D3D3'), heading_border_lr_style=OptionsInfo(scss=True, category='heading', type='value', value='none'), heading_border_lr_width=OptionsInfo(scss=True, category='heading', type='px', value='1px'), heading_border_lr_color=OptionsInfo(scss=True, category='heading', type='value', value='#D3D3D3'), column_labels_background_color=OptionsInfo(scss=True, category='column_labels', type='value', value='#ddc9a3'), column_labels_font_size=OptionsInfo(scss=True, category='column_labels', type='px', value='100%'), column_labels_font_weight=OptionsInfo(scss=True, category='column_labels', type='value', value='normal'), column_labels_text_transform=OptionsInfo(scss=True, category='column_labels', type='value', value='inherit'), column_labels_padding=OptionsInfo(scss=True, category='column_labels', type='px', value='1px'), column_labels_padding_horizontal=OptionsInfo(scss=True, category='column_labels', type='px', value='2px'), column_labels_vlines_style=OptionsInfo(scss=True, category='table_body', type='value', value='none'), column_labels_vlines_width=OptionsInfo(scss=True, category='table_body', type='px', value='1px'), column_labels_vlines_color=OptionsInfo(scss=True, category='table_body', type='value', value='#D3D3D3'), column_labels_border_top_style=OptionsInfo(scss=True, category='column_labels', type='value', value='solid'), column_labels_border_top_width=OptionsInfo(scss=True, category='column_labels', type='px', value='2px'), column_labels_border_top_color=OptionsInfo(scss=True, category='column_labels', type='value', value='#D3D3D3'), column_labels_border_bottom_style=OptionsInfo(scss=True, category='column_labels', type='value', value='solid'), column_labels_border_bottom_width=OptionsInfo(scss=True, category='column_labels', type='px', value='2px'), column_labels_border_bottom_color=OptionsInfo(scss=True, category='column_labels', type='value', value='#D3D3D3'), column_labels_border_lr_style=OptionsInfo(scss=True, category='column_labels', type='value', value='none'), column_labels_border_lr_width=OptionsInfo(scss=True, category='column_labels', type='px', value='1px'), column_labels_border_lr_color=OptionsInfo(scss=True, category='column_labels', type='value', value='#D3D3D3'), column_labels_hidden=OptionsInfo(scss=False, category='column_labels', type='boolean', value=False), row_group_background_color=OptionsInfo(scss=True, category='row_group', type='value', value=None), row_group_font_size=OptionsInfo(scss=True, category='row_group', type='px', value='100%'), row_group_font_weight=OptionsInfo(scss=True, category='row_group', type='value', value='initial'), row_group_text_transform=OptionsInfo(scss=True, category='row_group', type='value', value='inherit'), row_group_padding=OptionsInfo(scss=True, category='row_group', type='px', value='2px'), row_group_padding_horizontal=OptionsInfo(scss=True, category='row_group', type='px', value='2px'), row_group_border_top_style=OptionsInfo(scss=True, category='row_group', type='value', value='solid'), row_group_border_top_width=OptionsInfo(scss=True, category='row_group', type='px', value='2px'), row_group_border_top_color=OptionsInfo(scss=True, category='row_group', type='value', value='#D3D3D3'), row_group_border_right_style=OptionsInfo(scss=True, category='row_group', type='value', value='none'), row_group_border_right_width=OptionsInfo(scss=True, category='row_group', type='px', value='1px'), row_group_border_right_color=OptionsInfo(scss=True, category='row_group', type='value', value='#D3D3D3'), row_group_border_bottom_style=OptionsInfo(scss=True, category='row_group', type='value', value='solid'), row_group_border_bottom_width=OptionsInfo(scss=True, category='row_group', type='px', value='2px'), row_group_border_bottom_color=OptionsInfo(scss=True, category='row_group', type='value', value='#D3D3D3'), row_group_border_left_style=OptionsInfo(scss=True, category='row_group', type='value', value='none'), row_group_border_left_width=OptionsInfo(scss=True, category='row_group', type='px', value='1px'), row_group_border_left_color=OptionsInfo(scss=True, category='row_group', type='value', value='#D3D3D3'), row_group_as_column=OptionsInfo(scss=False, category='row_group', type='boolean', value=False), table_body_hlines_style=OptionsInfo(scss=True, category='table_body', type='value', value='solid'), table_body_hlines_width=OptionsInfo(scss=True, category='table_body', type='px', value='1px'), table_body_hlines_color=OptionsInfo(scss=True, category='table_body', type='value', value='#D3D3D3'), table_body_vlines_style=OptionsInfo(scss=True, category='table_body', type='value', value='none'), table_body_vlines_width=OptionsInfo(scss=True, category='table_body', type='px', value='1px'), table_body_vlines_color=OptionsInfo(scss=True, category='table_body', type='value', value='#D3D3D3'), table_body_border_top_style=OptionsInfo(scss=True, category='table_body', type='value', value='solid'), table_body_border_top_width=OptionsInfo(scss=True, category='table_body', type='px', value='2px'), table_body_border_top_color=OptionsInfo(scss=True, category='table_body', type='value', value='#D3D3D3'), table_body_border_bottom_style=OptionsInfo(scss=True, category='table_body', type='value', value='solid'), table_body_border_bottom_width=OptionsInfo(scss=True, category='table_body', type='px', value='2px'), table_body_border_bottom_color=OptionsInfo(scss=True, category='table_body', type='value', value='#D3D3D3'), data_row_padding=OptionsInfo(scss=True, category='data_row', type='px', value='2px'), data_row_padding_horizontal=OptionsInfo(scss=True, category='data_row', type='px', value='2px'), stub_background_color=OptionsInfo(scss=True, category='stub', type='value', value=None), stub_font_size=OptionsInfo(scss=True, category='stub', type='px', value='100%'), stub_font_weight=OptionsInfo(scss=True, category='stub', type='value', value='initial'), stub_text_transform=OptionsInfo(scss=True, category='stub', type='value', value='inherit'), stub_border_style=OptionsInfo(scss=True, category='stub', type='value', value='solid'), stub_border_width=OptionsInfo(scss=True, category='stub', type='px', value='2px'), stub_border_color=OptionsInfo(scss=True, category='stub', type='value', value='#D3D3D3'), stub_row_group_background_color=OptionsInfo(scss=True, category='stub', type='value', value=None), stub_row_group_font_size=OptionsInfo(scss=True, category='stub', type='px', value='100%'), stub_row_group_font_weight=OptionsInfo(scss=True, category='stub', type='value', value='initial'), stub_row_group_text_transform=OptionsInfo(scss=True, category='stub', type='value', value='inherit'), stub_row_group_border_style=OptionsInfo(scss=True, category='stub', type='value', value='solid'), stub_row_group_border_width=OptionsInfo(scss=True, category='stub', type='px', value='2px'), stub_row_group_border_color=OptionsInfo(scss=True, category='stub', type='value', value='#D3D3D3'), source_notes_padding=OptionsInfo(scss=True, category='source_notes', type='px', value='1px'), source_notes_padding_horizontal=OptionsInfo(scss=True, category='source_notes', type='px', value='2px'), source_notes_background_color=OptionsInfo(scss=True, category='source_notes', type='value', value='#ddc9a3'), source_notes_font_size=OptionsInfo(scss=True, category='source_notes', type='px', value='90%'), source_notes_border_bottom_style=OptionsInfo(scss=True, category='source_notes', type='value', value='none'), source_notes_border_bottom_width=OptionsInfo(scss=True, category='source_notes', type='px', value='2px'), source_notes_border_bottom_color=OptionsInfo(scss=True, category='source_notes', type='value', value='#D3D3D3'), source_notes_border_lr_style=OptionsInfo(scss=True, category='source_notes', type='value', value='none'), source_notes_border_lr_width=OptionsInfo(scss=True, category='source_notes', type='px', value='2px'), source_notes_border_lr_color=OptionsInfo(scss=True, category='source_notes', type='value', value='#D3D3D3'), source_notes_multiline=OptionsInfo(scss=False, category='source_notes', type='boolean', value=True), source_notes_sep=OptionsInfo(scss=False, category='source_notes', type='value', value=' '), row_striping_background_color=OptionsInfo(scss=True, category='row', type='value', value='#f8f8f8'), row_striping_include_stub=OptionsInfo(scss=False, category='row', type='boolean', value=False), row_striping_include_table_body=OptionsInfo(scss=False, category='row', type='boolean', value=True), container_width=OptionsInfo(scss=False, category='container', type='px', value='100%'), container_height=OptionsInfo(scss=False, category='container', type='px', value='100%'), container_padding_x=OptionsInfo(scss=False, category='container', type='px', value='0px'), container_padding_y=OptionsInfo(scss=False, category='container', type='px', value='10px'), container_overflow_x=OptionsInfo(scss=False, category='container', type='overflow', value='auto'), container_overflow_y=OptionsInfo(scss=False, category='container', type='overflow', value='auto'), quarto_disable_processing=OptionsInfo(scss=False, category='quarto', type='logical', value=False), quarto_use_bootstrap=OptionsInfo(scss=False, category='quarto', type='logical', value=False)), _has_built=False)"
      ]
     },
     "execution_count": null,
     "metadata": {},
     "output_type": "execute_result"
    }
   ],
   "source": [
    "nacl_prestaciones"
   ]
  },
  {
   "cell_type": "code",
   "execution_count": null,
   "id": "1f739136",
   "metadata": {},
   "outputs": [],
   "source": []
  },
  {
   "cell_type": "code",
   "execution_count": 129,
   "id": "196f1b3e",
   "metadata": {},
   "outputs": [],
   "source": [
    "def myplot(entidad_federativa):\n",
    "    fig = px.bar(test.filter(pl.col('nom_entidad')==entidad_federativa),\n",
    "        x='cve_categoria',\n",
    "        y='cantidad',\n",
    "        hover_data=['cve_categoria','nom_categoría','cantidad'],\n",
    "        labels={'cve_categoria':'Clave', 'nom_categoría':'Prestación', 'cantidad':'Total'},\n",
    "        width=900,\n",
    "        height=800,\n",
    "        text='cantidad',\n",
    "        )\n",
    "    fig.update_traces(texttemplate='%{text:,.0f}',\n",
    "        textfont_size=14,\n",
    "        textangle=0,\n",
    "        textposition=\"outside\",\n",
    "        marker_color='#9f2241',\n",
    "        marker_line_color='#323232',\n",
    "        marker_line_width=1.5,\n",
    "        opacity=0.8,\n",
    "        )\n",
    "    fig.update_layout(\n",
    "        title=dict(text=f'Prestaciones del Personal Policial - {entidad_federativa}'),\n",
    "        plot_bgcolor='#f8f8f8',\n",
    "        xaxis_tickfont_size=10,\n",
    "        xaxis_tickangle=-70,\n",
    "        xaxis=dict(\n",
    "            title=dict(\n",
    "                text=\"\",\n",
    "                font=dict(\n",
    "                    size=12\n",
    "                )\n",
    "            ),\n",
    "        ),\n",
    "        yaxis=dict(\n",
    "            title=dict(\n",
    "                text=\"Personal\",\n",
    "                font=dict(\n",
    "                    size=12\n",
    "                )\n",
    "            ),\n",
    "        ),\n",
    "    )\n",
    "    return fig"
   ]
  },
  {
   "cell_type": "code",
   "execution_count": 130,
   "id": "fc3cfb0d",
   "metadata": {},
   "outputs": [
    {
     "data": {
      "application/vnd.plotly.v1+json": {
       "config": {
        "plotlyServerURL": "https://plot.ly"
       },
       "data": [
        {
         "customdata": [
          [
           "Aguinaldo"
          ],
          [
           "Ahorro solidario"
          ],
          [
           "Apoyo educativo"
          ],
          [
           "Apoyo para los familiares del personal fallecido en ejercicio de sus funciones"
          ],
          [
           "Apoyo para los familiares del personal desaparecido o no localizado"
          ],
          [
           "Apoyo funerario para los familiares del personal fallecido"
          ],
          [
           "Apoyo para gastos funerarios de algún familiar"
          ],
          [
           "Apoyo para la vivienda"
          ],
          [
           "Apoyo para útiles escolares de sus hijos"
          ],
          [
           "Asesoría jurídica"
          ],
          [
           "Ayuda para transporte"
          ],
          [
           "Becas escolares para sus hijas y/o hijos"
          ],
          [
           "Bono de puntualidad"
          ],
          [
           "Bono de riesgo"
          ],
          [
           "Créditos automotirces"
          ],
          [
           "Créditos para la vivienda"
          ],
          [
           "Créditos personales"
          ],
          [
           "Días de permiso"
          ],
          [
           "Fondo de ahorro para el retiro"
          ],
          [
           "Indemnización por incapacidad"
          ],
          [
           "Licencia de maternidad"
          ],
          [
           "Licencia de paternidad"
          ],
          [
           "Licencia para cuidados de algún familiar"
          ],
          [
           "Licencia por riesgo de trabajo"
          ],
          [
           "Licencia por enfermedad o accidente no profesional"
          ],
          [
           "Seguro de enfermedad o accidente no profesional"
          ],
          [
           "Seguro de gastos médicos mayores"
          ],
          [
           "Seguro de vida"
          ],
          [
           "Seguro de retiro"
          ],
          [
           "Servicios psicológicos o de contención emocional"
          ],
          [
           "Vacaciones"
          ],
          [
           "Prima quinquenal"
          ],
          [
           "Prima vacacional"
          ],
          [
           "Prima de antigüedad"
          ],
          [
           "Vales, bonos o ayuda para despensa"
          ],
          [
           "Otra"
          ]
         ],
         "hovertemplate": "Clave=%{x}<br>Total=%{text}<br>Prestación=%{customdata[0]}<extra></extra>",
         "legendgroup": "",
         "marker": {
          "color": "#9f2241",
          "line": {
           "color": "#323232",
           "width": 1.5
          },
          "pattern": {
           "shape": ""
          }
         },
         "name": "",
         "opacity": 0.8,
         "orientation": "v",
         "showlegend": false,
         "text": {
          "bdata": "AAAAAADouUAAAAAAAAD4fwAAAAAAk7lAAAAAAADouUAAAAAAAAD4fwAAAAAA6LlAAAAAAADouUAAAAAAAAD4fwAAAAAAOrhAAAAAAAAA+H8AAAAAAIBBQAAAAAAAOrhAAAAAAAA6uEAAAAAAAAD4fwAAAAAAAPh/AAAAAAAYuEAAAAAAABe4QAAAAAAAF7hAAAAAAAAXuEAAAAAAABe4QAAAAAAAfJpAAAAAAAB4sUAAAAAAABe4QAAAAAAAF7hAAAAAAAAXuEAAAAAAAAD4fwAAAAAAAPh/AAAAAAAXuEAAAAAAAAD4fwAAAAAAF7hAAAAAAAAXuEAAAAAAAAD4fwAAAAAAk7lAAAAAAADouUAAAAAAAOi5QAAAAAAAAPh/",
          "dtype": "f8"
         },
         "textangle": 0,
         "textfont": {
          "size": 14
         },
         "textposition": "outside",
         "texttemplate": "%{text:,.0f}",
         "type": "bar",
         "x": {
          "bdata": "AQIDBAUGBwgJCgsMDQ4PEBESExQVFhcYGRobHB0eHyAhIiMk",
          "dtype": "i1"
         },
         "xaxis": "x",
         "y": {
          "bdata": "AAAAAADouUAAAAAAAAD4fwAAAAAAk7lAAAAAAADouUAAAAAAAAD4fwAAAAAA6LlAAAAAAADouUAAAAAAAAD4fwAAAAAAOrhAAAAAAAAA+H8AAAAAAIBBQAAAAAAAOrhAAAAAAAA6uEAAAAAAAAD4fwAAAAAAAPh/AAAAAAAYuEAAAAAAABe4QAAAAAAAF7hAAAAAAAAXuEAAAAAAABe4QAAAAAAAfJpAAAAAAAB4sUAAAAAAABe4QAAAAAAAF7hAAAAAAAAXuEAAAAAAAAD4fwAAAAAAAPh/AAAAAAAXuEAAAAAAAAD4fwAAAAAAF7hAAAAAAAAXuEAAAAAAAAD4fwAAAAAAk7lAAAAAAADouUAAAAAAAOi5QAAAAAAAAPh/",
          "dtype": "f8"
         },
         "yaxis": "y"
        }
       ],
       "layout": {
        "barmode": "relative",
        "height": 800,
        "legend": {
         "tracegroupgap": 0
        },
        "margin": {
         "t": 60
        },
        "plot_bgcolor": "#f8f8f8",
        "template": {
         "data": {
          "bar": [
           {
            "error_x": {
             "color": "#2a3f5f"
            },
            "error_y": {
             "color": "#2a3f5f"
            },
            "marker": {
             "line": {
              "color": "#E5ECF6",
              "width": 0.5
             },
             "pattern": {
              "fillmode": "overlay",
              "size": 10,
              "solidity": 0.2
             }
            },
            "type": "bar"
           }
          ],
          "barpolar": [
           {
            "marker": {
             "line": {
              "color": "#E5ECF6",
              "width": 0.5
             },
             "pattern": {
              "fillmode": "overlay",
              "size": 10,
              "solidity": 0.2
             }
            },
            "type": "barpolar"
           }
          ],
          "carpet": [
           {
            "aaxis": {
             "endlinecolor": "#2a3f5f",
             "gridcolor": "white",
             "linecolor": "white",
             "minorgridcolor": "white",
             "startlinecolor": "#2a3f5f"
            },
            "baxis": {
             "endlinecolor": "#2a3f5f",
             "gridcolor": "white",
             "linecolor": "white",
             "minorgridcolor": "white",
             "startlinecolor": "#2a3f5f"
            },
            "type": "carpet"
           }
          ],
          "choropleth": [
           {
            "colorbar": {
             "outlinewidth": 0,
             "ticks": ""
            },
            "type": "choropleth"
           }
          ],
          "contour": [
           {
            "colorbar": {
             "outlinewidth": 0,
             "ticks": ""
            },
            "colorscale": [
             [
              0,
              "#0d0887"
             ],
             [
              0.1111111111111111,
              "#46039f"
             ],
             [
              0.2222222222222222,
              "#7201a8"
             ],
             [
              0.3333333333333333,
              "#9c179e"
             ],
             [
              0.4444444444444444,
              "#bd3786"
             ],
             [
              0.5555555555555556,
              "#d8576b"
             ],
             [
              0.6666666666666666,
              "#ed7953"
             ],
             [
              0.7777777777777778,
              "#fb9f3a"
             ],
             [
              0.8888888888888888,
              "#fdca26"
             ],
             [
              1,
              "#f0f921"
             ]
            ],
            "type": "contour"
           }
          ],
          "contourcarpet": [
           {
            "colorbar": {
             "outlinewidth": 0,
             "ticks": ""
            },
            "type": "contourcarpet"
           }
          ],
          "heatmap": [
           {
            "colorbar": {
             "outlinewidth": 0,
             "ticks": ""
            },
            "colorscale": [
             [
              0,
              "#0d0887"
             ],
             [
              0.1111111111111111,
              "#46039f"
             ],
             [
              0.2222222222222222,
              "#7201a8"
             ],
             [
              0.3333333333333333,
              "#9c179e"
             ],
             [
              0.4444444444444444,
              "#bd3786"
             ],
             [
              0.5555555555555556,
              "#d8576b"
             ],
             [
              0.6666666666666666,
              "#ed7953"
             ],
             [
              0.7777777777777778,
              "#fb9f3a"
             ],
             [
              0.8888888888888888,
              "#fdca26"
             ],
             [
              1,
              "#f0f921"
             ]
            ],
            "type": "heatmap"
           }
          ],
          "histogram": [
           {
            "marker": {
             "pattern": {
              "fillmode": "overlay",
              "size": 10,
              "solidity": 0.2
             }
            },
            "type": "histogram"
           }
          ],
          "histogram2d": [
           {
            "colorbar": {
             "outlinewidth": 0,
             "ticks": ""
            },
            "colorscale": [
             [
              0,
              "#0d0887"
             ],
             [
              0.1111111111111111,
              "#46039f"
             ],
             [
              0.2222222222222222,
              "#7201a8"
             ],
             [
              0.3333333333333333,
              "#9c179e"
             ],
             [
              0.4444444444444444,
              "#bd3786"
             ],
             [
              0.5555555555555556,
              "#d8576b"
             ],
             [
              0.6666666666666666,
              "#ed7953"
             ],
             [
              0.7777777777777778,
              "#fb9f3a"
             ],
             [
              0.8888888888888888,
              "#fdca26"
             ],
             [
              1,
              "#f0f921"
             ]
            ],
            "type": "histogram2d"
           }
          ],
          "histogram2dcontour": [
           {
            "colorbar": {
             "outlinewidth": 0,
             "ticks": ""
            },
            "colorscale": [
             [
              0,
              "#0d0887"
             ],
             [
              0.1111111111111111,
              "#46039f"
             ],
             [
              0.2222222222222222,
              "#7201a8"
             ],
             [
              0.3333333333333333,
              "#9c179e"
             ],
             [
              0.4444444444444444,
              "#bd3786"
             ],
             [
              0.5555555555555556,
              "#d8576b"
             ],
             [
              0.6666666666666666,
              "#ed7953"
             ],
             [
              0.7777777777777778,
              "#fb9f3a"
             ],
             [
              0.8888888888888888,
              "#fdca26"
             ],
             [
              1,
              "#f0f921"
             ]
            ],
            "type": "histogram2dcontour"
           }
          ],
          "mesh3d": [
           {
            "colorbar": {
             "outlinewidth": 0,
             "ticks": ""
            },
            "type": "mesh3d"
           }
          ],
          "parcoords": [
           {
            "line": {
             "colorbar": {
              "outlinewidth": 0,
              "ticks": ""
             }
            },
            "type": "parcoords"
           }
          ],
          "pie": [
           {
            "automargin": true,
            "type": "pie"
           }
          ],
          "scatter": [
           {
            "fillpattern": {
             "fillmode": "overlay",
             "size": 10,
             "solidity": 0.2
            },
            "type": "scatter"
           }
          ],
          "scatter3d": [
           {
            "line": {
             "colorbar": {
              "outlinewidth": 0,
              "ticks": ""
             }
            },
            "marker": {
             "colorbar": {
              "outlinewidth": 0,
              "ticks": ""
             }
            },
            "type": "scatter3d"
           }
          ],
          "scattercarpet": [
           {
            "marker": {
             "colorbar": {
              "outlinewidth": 0,
              "ticks": ""
             }
            },
            "type": "scattercarpet"
           }
          ],
          "scattergeo": [
           {
            "marker": {
             "colorbar": {
              "outlinewidth": 0,
              "ticks": ""
             }
            },
            "type": "scattergeo"
           }
          ],
          "scattergl": [
           {
            "marker": {
             "colorbar": {
              "outlinewidth": 0,
              "ticks": ""
             }
            },
            "type": "scattergl"
           }
          ],
          "scattermap": [
           {
            "marker": {
             "colorbar": {
              "outlinewidth": 0,
              "ticks": ""
             }
            },
            "type": "scattermap"
           }
          ],
          "scattermapbox": [
           {
            "marker": {
             "colorbar": {
              "outlinewidth": 0,
              "ticks": ""
             }
            },
            "type": "scattermapbox"
           }
          ],
          "scatterpolar": [
           {
            "marker": {
             "colorbar": {
              "outlinewidth": 0,
              "ticks": ""
             }
            },
            "type": "scatterpolar"
           }
          ],
          "scatterpolargl": [
           {
            "marker": {
             "colorbar": {
              "outlinewidth": 0,
              "ticks": ""
             }
            },
            "type": "scatterpolargl"
           }
          ],
          "scatterternary": [
           {
            "marker": {
             "colorbar": {
              "outlinewidth": 0,
              "ticks": ""
             }
            },
            "type": "scatterternary"
           }
          ],
          "surface": [
           {
            "colorbar": {
             "outlinewidth": 0,
             "ticks": ""
            },
            "colorscale": [
             [
              0,
              "#0d0887"
             ],
             [
              0.1111111111111111,
              "#46039f"
             ],
             [
              0.2222222222222222,
              "#7201a8"
             ],
             [
              0.3333333333333333,
              "#9c179e"
             ],
             [
              0.4444444444444444,
              "#bd3786"
             ],
             [
              0.5555555555555556,
              "#d8576b"
             ],
             [
              0.6666666666666666,
              "#ed7953"
             ],
             [
              0.7777777777777778,
              "#fb9f3a"
             ],
             [
              0.8888888888888888,
              "#fdca26"
             ],
             [
              1,
              "#f0f921"
             ]
            ],
            "type": "surface"
           }
          ],
          "table": [
           {
            "cells": {
             "fill": {
              "color": "#EBF0F8"
             },
             "line": {
              "color": "white"
             }
            },
            "header": {
             "fill": {
              "color": "#C8D4E3"
             },
             "line": {
              "color": "white"
             }
            },
            "type": "table"
           }
          ]
         },
         "layout": {
          "annotationdefaults": {
           "arrowcolor": "#2a3f5f",
           "arrowhead": 0,
           "arrowwidth": 1
          },
          "autotypenumbers": "strict",
          "coloraxis": {
           "colorbar": {
            "outlinewidth": 0,
            "ticks": ""
           }
          },
          "colorscale": {
           "diverging": [
            [
             0,
             "#8e0152"
            ],
            [
             0.1,
             "#c51b7d"
            ],
            [
             0.2,
             "#de77ae"
            ],
            [
             0.3,
             "#f1b6da"
            ],
            [
             0.4,
             "#fde0ef"
            ],
            [
             0.5,
             "#f7f7f7"
            ],
            [
             0.6,
             "#e6f5d0"
            ],
            [
             0.7,
             "#b8e186"
            ],
            [
             0.8,
             "#7fbc41"
            ],
            [
             0.9,
             "#4d9221"
            ],
            [
             1,
             "#276419"
            ]
           ],
           "sequential": [
            [
             0,
             "#0d0887"
            ],
            [
             0.1111111111111111,
             "#46039f"
            ],
            [
             0.2222222222222222,
             "#7201a8"
            ],
            [
             0.3333333333333333,
             "#9c179e"
            ],
            [
             0.4444444444444444,
             "#bd3786"
            ],
            [
             0.5555555555555556,
             "#d8576b"
            ],
            [
             0.6666666666666666,
             "#ed7953"
            ],
            [
             0.7777777777777778,
             "#fb9f3a"
            ],
            [
             0.8888888888888888,
             "#fdca26"
            ],
            [
             1,
             "#f0f921"
            ]
           ],
           "sequentialminus": [
            [
             0,
             "#0d0887"
            ],
            [
             0.1111111111111111,
             "#46039f"
            ],
            [
             0.2222222222222222,
             "#7201a8"
            ],
            [
             0.3333333333333333,
             "#9c179e"
            ],
            [
             0.4444444444444444,
             "#bd3786"
            ],
            [
             0.5555555555555556,
             "#d8576b"
            ],
            [
             0.6666666666666666,
             "#ed7953"
            ],
            [
             0.7777777777777778,
             "#fb9f3a"
            ],
            [
             0.8888888888888888,
             "#fdca26"
            ],
            [
             1,
             "#f0f921"
            ]
           ]
          },
          "colorway": [
           "#636efa",
           "#EF553B",
           "#00cc96",
           "#ab63fa",
           "#FFA15A",
           "#19d3f3",
           "#FF6692",
           "#B6E880",
           "#FF97FF",
           "#FECB52"
          ],
          "font": {
           "color": "#2a3f5f"
          },
          "geo": {
           "bgcolor": "white",
           "lakecolor": "white",
           "landcolor": "#E5ECF6",
           "showlakes": true,
           "showland": true,
           "subunitcolor": "white"
          },
          "hoverlabel": {
           "align": "left"
          },
          "hovermode": "closest",
          "mapbox": {
           "style": "light"
          },
          "paper_bgcolor": "white",
          "plot_bgcolor": "#E5ECF6",
          "polar": {
           "angularaxis": {
            "gridcolor": "white",
            "linecolor": "white",
            "ticks": ""
           },
           "bgcolor": "#E5ECF6",
           "radialaxis": {
            "gridcolor": "white",
            "linecolor": "white",
            "ticks": ""
           }
          },
          "scene": {
           "xaxis": {
            "backgroundcolor": "#E5ECF6",
            "gridcolor": "white",
            "gridwidth": 2,
            "linecolor": "white",
            "showbackground": true,
            "ticks": "",
            "zerolinecolor": "white"
           },
           "yaxis": {
            "backgroundcolor": "#E5ECF6",
            "gridcolor": "white",
            "gridwidth": 2,
            "linecolor": "white",
            "showbackground": true,
            "ticks": "",
            "zerolinecolor": "white"
           },
           "zaxis": {
            "backgroundcolor": "#E5ECF6",
            "gridcolor": "white",
            "gridwidth": 2,
            "linecolor": "white",
            "showbackground": true,
            "ticks": "",
            "zerolinecolor": "white"
           }
          },
          "shapedefaults": {
           "line": {
            "color": "#2a3f5f"
           }
          },
          "ternary": {
           "aaxis": {
            "gridcolor": "white",
            "linecolor": "white",
            "ticks": ""
           },
           "baxis": {
            "gridcolor": "white",
            "linecolor": "white",
            "ticks": ""
           },
           "bgcolor": "#E5ECF6",
           "caxis": {
            "gridcolor": "white",
            "linecolor": "white",
            "ticks": ""
           }
          },
          "title": {
           "x": 0.05
          },
          "xaxis": {
           "automargin": true,
           "gridcolor": "white",
           "linecolor": "white",
           "ticks": "",
           "title": {
            "standoff": 15
           },
           "zerolinecolor": "white",
           "zerolinewidth": 2
          },
          "yaxis": {
           "automargin": true,
           "gridcolor": "white",
           "linecolor": "white",
           "ticks": "",
           "title": {
            "standoff": 15
           },
           "zerolinecolor": "white",
           "zerolinewidth": 2
          }
         }
        },
        "title": {
         "text": "Prestaciones del Personal Policial - Puebla"
        },
        "width": 900,
        "xaxis": {
         "anchor": "y",
         "domain": [
          0,
          1
         ],
         "tickangle": -70,
         "tickfont": {
          "size": 10
         },
         "title": {
          "font": {
           "size": 12
          },
          "text": ""
         }
        },
        "yaxis": {
         "anchor": "x",
         "domain": [
          0,
          1
         ],
         "title": {
          "font": {
           "size": 12
          },
          "text": "Personal"
         }
        }
       }
      }
     },
     "metadata": {},
     "output_type": "display_data"
    }
   ],
   "source": [
    "myplot('Puebla')"
   ]
  }
 ],
 "metadata": {
  "language_info": {
   "name": "python"
  }
 },
 "nbformat": 4,
 "nbformat_minor": 5
}
