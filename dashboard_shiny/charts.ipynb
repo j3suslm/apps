{
 "cells": [
  {
   "cell_type": "code",
   "execution_count": 1,
   "id": "8beaf088",
   "metadata": {},
   "outputs": [],
   "source": [
    "import polars as pl\n",
    "import plotly.express as px"
   ]
  },
  {
   "cell_type": "code",
   "execution_count": 7,
   "id": "e176db01",
   "metadata": {},
   "outputs": [],
   "source": [
    "prestaciones = pl.read_excel('tablero.xlsx', columns=[1,7,9])"
   ]
  },
  {
   "cell_type": "code",
   "execution_count": 108,
   "id": "522e11cf",
   "metadata": {},
   "outputs": [],
   "source": [
    "import pandas as pd\n",
    "prestaciones = pd.read_excel('tablero.xlsx', usecols=[1,6,7,9])"
   ]
  },
  {
   "cell_type": "code",
   "execution_count": 115,
   "id": "6c517098",
   "metadata": {},
   "outputs": [],
   "source": [
    "test = pl.from_pandas(prestaciones)"
   ]
  },
  {
   "cell_type": "code",
   "execution_count": 134,
   "id": "60427741",
   "metadata": {},
   "outputs": [],
   "source": [
    "prestaciones['cantidad'] = prestaciones['cantidad'].fillna(0)"
   ]
  },
  {
   "cell_type": "code",
   "execution_count": 135,
   "id": "31929981",
   "metadata": {},
   "outputs": [
    {
     "data": {
      "text/html": [
       "<div>\n",
       "<style scoped>\n",
       "    .dataframe tbody tr th:only-of-type {\n",
       "        vertical-align: middle;\n",
       "    }\n",
       "\n",
       "    .dataframe tbody tr th {\n",
       "        vertical-align: top;\n",
       "    }\n",
       "\n",
       "    .dataframe thead th {\n",
       "        text-align: right;\n",
       "    }\n",
       "</style>\n",
       "<table border=\"1\" class=\"dataframe\">\n",
       "  <thead>\n",
       "    <tr style=\"text-align: right;\">\n",
       "      <th></th>\n",
       "      <th>nom_entidad</th>\n",
       "      <th>cve_categoria</th>\n",
       "      <th>nom_categoría</th>\n",
       "      <th>cantidad</th>\n",
       "    </tr>\n",
       "  </thead>\n",
       "  <tbody>\n",
       "    <tr>\n",
       "      <th>0</th>\n",
       "      <td>Aguascalientes</td>\n",
       "      <td>1</td>\n",
       "      <td>Aguinaldo</td>\n",
       "      <td>1145.0</td>\n",
       "    </tr>\n",
       "    <tr>\n",
       "      <th>1</th>\n",
       "      <td>Baja California</td>\n",
       "      <td>1</td>\n",
       "      <td>Aguinaldo</td>\n",
       "      <td>1017.0</td>\n",
       "    </tr>\n",
       "    <tr>\n",
       "      <th>2</th>\n",
       "      <td>Baja California Sur</td>\n",
       "      <td>1</td>\n",
       "      <td>Aguinaldo</td>\n",
       "      <td>879.0</td>\n",
       "    </tr>\n",
       "    <tr>\n",
       "      <th>3</th>\n",
       "      <td>Campeche</td>\n",
       "      <td>1</td>\n",
       "      <td>Aguinaldo</td>\n",
       "      <td>1196.0</td>\n",
       "    </tr>\n",
       "    <tr>\n",
       "      <th>4</th>\n",
       "      <td>Coahuila</td>\n",
       "      <td>1</td>\n",
       "      <td>Aguinaldo</td>\n",
       "      <td>2966.0</td>\n",
       "    </tr>\n",
       "    <tr>\n",
       "      <th>...</th>\n",
       "      <td>...</td>\n",
       "      <td>...</td>\n",
       "      <td>...</td>\n",
       "      <td>...</td>\n",
       "    </tr>\n",
       "    <tr>\n",
       "      <th>1219</th>\n",
       "      <td>Tamaulipas</td>\n",
       "      <td>36</td>\n",
       "      <td>Otra</td>\n",
       "      <td>0.0</td>\n",
       "    </tr>\n",
       "    <tr>\n",
       "      <th>1220</th>\n",
       "      <td>Tlaxcala</td>\n",
       "      <td>36</td>\n",
       "      <td>Otra</td>\n",
       "      <td>0.0</td>\n",
       "    </tr>\n",
       "    <tr>\n",
       "      <th>1221</th>\n",
       "      <td>Veracruz</td>\n",
       "      <td>36</td>\n",
       "      <td>Otra</td>\n",
       "      <td>0.0</td>\n",
       "    </tr>\n",
       "    <tr>\n",
       "      <th>1222</th>\n",
       "      <td>Yucatán</td>\n",
       "      <td>36</td>\n",
       "      <td>Otra</td>\n",
       "      <td>0.0</td>\n",
       "    </tr>\n",
       "    <tr>\n",
       "      <th>1223</th>\n",
       "      <td>Zacatecas</td>\n",
       "      <td>36</td>\n",
       "      <td>Otra</td>\n",
       "      <td>0.0</td>\n",
       "    </tr>\n",
       "  </tbody>\n",
       "</table>\n",
       "<p>1224 rows × 4 columns</p>\n",
       "</div>"
      ],
      "text/plain": [
       "              nom_entidad  cve_categoria nom_categoría  cantidad\n",
       "0          Aguascalientes              1     Aguinaldo    1145.0\n",
       "1         Baja California              1     Aguinaldo    1017.0\n",
       "2     Baja California Sur              1     Aguinaldo     879.0\n",
       "3                Campeche              1     Aguinaldo    1196.0\n",
       "4                Coahuila              1     Aguinaldo    2966.0\n",
       "...                   ...            ...           ...       ...\n",
       "1219           Tamaulipas             36          Otra       0.0\n",
       "1220             Tlaxcala             36          Otra       0.0\n",
       "1221             Veracruz             36          Otra       0.0\n",
       "1222              Yucatán             36          Otra       0.0\n",
       "1223            Zacatecas             36          Otra       0.0\n",
       "\n",
       "[1224 rows x 4 columns]"
      ]
     },
     "execution_count": null,
     "metadata": {},
     "output_type": "execute_result"
    }
   ],
   "source": [
    "prestaciones"
   ]
  },
  {
   "cell_type": "code",
   "execution_count": 129,
   "id": "196f1b3e",
   "metadata": {},
   "outputs": [],
   "source": [
    "def myplot(entidad_federativa):\n",
    "    fig = px.bar(test.filter(pl.col('nom_entidad')==entidad_federativa),\n",
    "        x='cve_categoria',\n",
    "        y='cantidad',\n",
    "        hover_data=['cve_categoria','nom_categoría','cantidad'],\n",
    "        labels={'cve_categoria':'Clave', 'nom_categoría':'Prestación', 'cantidad':'Total'},\n",
    "        width=900,\n",
    "        height=800,\n",
    "        text='cantidad',\n",
    "        )\n",
    "    fig.update_traces(texttemplate='%{text:,.0f}',\n",
    "        textfont_size=14,\n",
    "        textangle=0,\n",
    "        textposition=\"outside\",\n",
    "        marker_color='#9f2241',\n",
    "        marker_line_color='#323232',\n",
    "        marker_line_width=1.5,\n",
    "        opacity=0.8,\n",
    "        )\n",
    "    fig.update_layout(\n",
    "        title=dict(text=f'Prestaciones del Personal Policial - {entidad_federativa}'),\n",
    "        plot_bgcolor='#f8f8f8',\n",
    "        xaxis_tickfont_size=10,\n",
    "        xaxis_tickangle=-70,\n",
    "        xaxis=dict(\n",
    "            title=dict(\n",
    "                text=\"\",\n",
    "                font=dict(\n",
    "                    size=12\n",
    "                )\n",
    "            ),\n",
    "        ),\n",
    "        yaxis=dict(\n",
    "            title=dict(\n",
    "                text=\"Personal\",\n",
    "                font=dict(\n",
    "                    size=12\n",
    "                )\n",
    "            ),\n",
    "        ),\n",
    "    )\n",
    "    return fig"
   ]
  },
  {
   "cell_type": "code",
   "execution_count": 130,
   "id": "fc3cfb0d",
   "metadata": {},
   "outputs": [
    {
     "data": {
      "application/vnd.plotly.v1+json": {
       "config": {
        "plotlyServerURL": "https://plot.ly"
       },
       "data": [
        {
         "customdata": [
          [
           "Aguinaldo"
          ],
          [
           "Ahorro solidario"
          ],
          [
           "Apoyo educativo"
          ],
          [
           "Apoyo para los familiares del personal fallecido en ejercicio de sus funciones"
          ],
          [
           "Apoyo para los familiares del personal desaparecido o no localizado"
          ],
          [
           "Apoyo funerario para los familiares del personal fallecido"
          ],
          [
           "Apoyo para gastos funerarios de algún familiar"
          ],
          [
           "Apoyo para la vivienda"
          ],
          [
           "Apoyo para útiles escolares de sus hijos"
          ],
          [
           "Asesoría jurídica"
          ],
          [
           "Ayuda para transporte"
          ],
          [
           "Becas escolares para sus hijas y/o hijos"
          ],
          [
           "Bono de puntualidad"
          ],
          [
           "Bono de riesgo"
          ],
          [
           "Créditos automotirces"
          ],
          [
           "Créditos para la vivienda"
          ],
          [
           "Créditos personales"
          ],
          [
           "Días de permiso"
          ],
          [
           "Fondo de ahorro para el retiro"
          ],
          [
           "Indemnización por incapacidad"
          ],
          [
           "Licencia de maternidad"
          ],
          [
           "Licencia de paternidad"
          ],
          [
           "Licencia para cuidados de algún familiar"
          ],
          [
           "Licencia por riesgo de trabajo"
          ],
          [
           "Licencia por enfermedad o accidente no profesional"
          ],
          [
           "Seguro de enfermedad o accidente no profesional"
          ],
          [
           "Seguro de gastos médicos mayores"
          ],
          [
           "Seguro de vida"
          ],
          [
           "Seguro de retiro"
          ],
          [
           "Servicios psicológicos o de contención emocional"
          ],
          [
           "Vacaciones"
          ],
          [
           "Prima quinquenal"
          ],
          [
           "Prima vacacional"
          ],
          [
           "Prima de antigüedad"
          ],
          [
           "Vales, bonos o ayuda para despensa"
          ],
          [
           "Otra"
          ]
         ],
         "hovertemplate": "Clave=%{x}<br>Total=%{text}<br>Prestación=%{customdata[0]}<extra></extra>",
         "legendgroup": "",
         "marker": {
          "color": "#9f2241",
          "line": {
           "color": "#323232",
           "width": 1.5
          },
          "pattern": {
           "shape": ""
          }
         },
         "name": "",
         "opacity": 0.8,
         "orientation": "v",
         "showlegend": false,
         "text": {
          "bdata": "AAAAAADouUAAAAAAAAD4fwAAAAAAk7lAAAAAAADouUAAAAAAAAD4fwAAAAAA6LlAAAAAAADouUAAAAAAAAD4fwAAAAAAOrhAAAAAAAAA+H8AAAAAAIBBQAAAAAAAOrhAAAAAAAA6uEAAAAAAAAD4fwAAAAAAAPh/AAAAAAAYuEAAAAAAABe4QAAAAAAAF7hAAAAAAAAXuEAAAAAAABe4QAAAAAAAfJpAAAAAAAB4sUAAAAAAABe4QAAAAAAAF7hAAAAAAAAXuEAAAAAAAAD4fwAAAAAAAPh/AAAAAAAXuEAAAAAAAAD4fwAAAAAAF7hAAAAAAAAXuEAAAAAAAAD4fwAAAAAAk7lAAAAAAADouUAAAAAAAOi5QAAAAAAAAPh/",
          "dtype": "f8"
         },
         "textangle": 0,
         "textfont": {
          "size": 14
         },
         "textposition": "outside",
         "texttemplate": "%{text:,.0f}",
         "type": "bar",
         "x": {
          "bdata": "AQIDBAUGBwgJCgsMDQ4PEBESExQVFhcYGRobHB0eHyAhIiMk",
          "dtype": "i1"
         },
         "xaxis": "x",
         "y": {
          "bdata": "AAAAAADouUAAAAAAAAD4fwAAAAAAk7lAAAAAAADouUAAAAAAAAD4fwAAAAAA6LlAAAAAAADouUAAAAAAAAD4fwAAAAAAOrhAAAAAAAAA+H8AAAAAAIBBQAAAAAAAOrhAAAAAAAA6uEAAAAAAAAD4fwAAAAAAAPh/AAAAAAAYuEAAAAAAABe4QAAAAAAAF7hAAAAAAAAXuEAAAAAAABe4QAAAAAAAfJpAAAAAAAB4sUAAAAAAABe4QAAAAAAAF7hAAAAAAAAXuEAAAAAAAAD4fwAAAAAAAPh/AAAAAAAXuEAAAAAAAAD4fwAAAAAAF7hAAAAAAAAXuEAAAAAAAAD4fwAAAAAAk7lAAAAAAADouUAAAAAAAOi5QAAAAAAAAPh/",
          "dtype": "f8"
         },
         "yaxis": "y"
        }
       ],
       "layout": {
        "barmode": "relative",
        "height": 800,
        "legend": {
         "tracegroupgap": 0
        },
        "margin": {
         "t": 60
        },
        "plot_bgcolor": "#f8f8f8",
        "template": {
         "data": {
          "bar": [
           {
            "error_x": {
             "color": "#2a3f5f"
            },
            "error_y": {
             "color": "#2a3f5f"
            },
            "marker": {
             "line": {
              "color": "#E5ECF6",
              "width": 0.5
             },
             "pattern": {
              "fillmode": "overlay",
              "size": 10,
              "solidity": 0.2
             }
            },
            "type": "bar"
           }
          ],
          "barpolar": [
           {
            "marker": {
             "line": {
              "color": "#E5ECF6",
              "width": 0.5
             },
             "pattern": {
              "fillmode": "overlay",
              "size": 10,
              "solidity": 0.2
             }
            },
            "type": "barpolar"
           }
          ],
          "carpet": [
           {
            "aaxis": {
             "endlinecolor": "#2a3f5f",
             "gridcolor": "white",
             "linecolor": "white",
             "minorgridcolor": "white",
             "startlinecolor": "#2a3f5f"
            },
            "baxis": {
             "endlinecolor": "#2a3f5f",
             "gridcolor": "white",
             "linecolor": "white",
             "minorgridcolor": "white",
             "startlinecolor": "#2a3f5f"
            },
            "type": "carpet"
           }
          ],
          "choropleth": [
           {
            "colorbar": {
             "outlinewidth": 0,
             "ticks": ""
            },
            "type": "choropleth"
           }
          ],
          "contour": [
           {
            "colorbar": {
             "outlinewidth": 0,
             "ticks": ""
            },
            "colorscale": [
             [
              0,
              "#0d0887"
             ],
             [
              0.1111111111111111,
              "#46039f"
             ],
             [
              0.2222222222222222,
              "#7201a8"
             ],
             [
              0.3333333333333333,
              "#9c179e"
             ],
             [
              0.4444444444444444,
              "#bd3786"
             ],
             [
              0.5555555555555556,
              "#d8576b"
             ],
             [
              0.6666666666666666,
              "#ed7953"
             ],
             [
              0.7777777777777778,
              "#fb9f3a"
             ],
             [
              0.8888888888888888,
              "#fdca26"
             ],
             [
              1,
              "#f0f921"
             ]
            ],
            "type": "contour"
           }
          ],
          "contourcarpet": [
           {
            "colorbar": {
             "outlinewidth": 0,
             "ticks": ""
            },
            "type": "contourcarpet"
           }
          ],
          "heatmap": [
           {
            "colorbar": {
             "outlinewidth": 0,
             "ticks": ""
            },
            "colorscale": [
             [
              0,
              "#0d0887"
             ],
             [
              0.1111111111111111,
              "#46039f"
             ],
             [
              0.2222222222222222,
              "#7201a8"
             ],
             [
              0.3333333333333333,
              "#9c179e"
             ],
             [
              0.4444444444444444,
              "#bd3786"
             ],
             [
              0.5555555555555556,
              "#d8576b"
             ],
             [
              0.6666666666666666,
              "#ed7953"
             ],
             [
              0.7777777777777778,
              "#fb9f3a"
             ],
             [
              0.8888888888888888,
              "#fdca26"
             ],
             [
              1,
              "#f0f921"
             ]
            ],
            "type": "heatmap"
           }
          ],
          "histogram": [
           {
            "marker": {
             "pattern": {
              "fillmode": "overlay",
              "size": 10,
              "solidity": 0.2
             }
            },
            "type": "histogram"
           }
          ],
          "histogram2d": [
           {
            "colorbar": {
             "outlinewidth": 0,
             "ticks": ""
            },
            "colorscale": [
             [
              0,
              "#0d0887"
             ],
             [
              0.1111111111111111,
              "#46039f"
             ],
             [
              0.2222222222222222,
              "#7201a8"
             ],
             [
              0.3333333333333333,
              "#9c179e"
             ],
             [
              0.4444444444444444,
              "#bd3786"
             ],
             [
              0.5555555555555556,
              "#d8576b"
             ],
             [
              0.6666666666666666,
              "#ed7953"
             ],
             [
              0.7777777777777778,
              "#fb9f3a"
             ],
             [
              0.8888888888888888,
              "#fdca26"
             ],
             [
              1,
              "#f0f921"
             ]
            ],
            "type": "histogram2d"
           }
          ],
          "histogram2dcontour": [
           {
            "colorbar": {
             "outlinewidth": 0,
             "ticks": ""
            },
            "colorscale": [
             [
              0,
              "#0d0887"
             ],
             [
              0.1111111111111111,
              "#46039f"
             ],
             [
              0.2222222222222222,
              "#7201a8"
             ],
             [
              0.3333333333333333,
              "#9c179e"
             ],
             [
              0.4444444444444444,
              "#bd3786"
             ],
             [
              0.5555555555555556,
              "#d8576b"
             ],
             [
              0.6666666666666666,
              "#ed7953"
             ],
             [
              0.7777777777777778,
              "#fb9f3a"
             ],
             [
              0.8888888888888888,
              "#fdca26"
             ],
             [
              1,
              "#f0f921"
             ]
            ],
            "type": "histogram2dcontour"
           }
          ],
          "mesh3d": [
           {
            "colorbar": {
             "outlinewidth": 0,
             "ticks": ""
            },
            "type": "mesh3d"
           }
          ],
          "parcoords": [
           {
            "line": {
             "colorbar": {
              "outlinewidth": 0,
              "ticks": ""
             }
            },
            "type": "parcoords"
           }
          ],
          "pie": [
           {
            "automargin": true,
            "type": "pie"
           }
          ],
          "scatter": [
           {
            "fillpattern": {
             "fillmode": "overlay",
             "size": 10,
             "solidity": 0.2
            },
            "type": "scatter"
           }
          ],
          "scatter3d": [
           {
            "line": {
             "colorbar": {
              "outlinewidth": 0,
              "ticks": ""
             }
            },
            "marker": {
             "colorbar": {
              "outlinewidth": 0,
              "ticks": ""
             }
            },
            "type": "scatter3d"
           }
          ],
          "scattercarpet": [
           {
            "marker": {
             "colorbar": {
              "outlinewidth": 0,
              "ticks": ""
             }
            },
            "type": "scattercarpet"
           }
          ],
          "scattergeo": [
           {
            "marker": {
             "colorbar": {
              "outlinewidth": 0,
              "ticks": ""
             }
            },
            "type": "scattergeo"
           }
          ],
          "scattergl": [
           {
            "marker": {
             "colorbar": {
              "outlinewidth": 0,
              "ticks": ""
             }
            },
            "type": "scattergl"
           }
          ],
          "scattermap": [
           {
            "marker": {
             "colorbar": {
              "outlinewidth": 0,
              "ticks": ""
             }
            },
            "type": "scattermap"
           }
          ],
          "scattermapbox": [
           {
            "marker": {
             "colorbar": {
              "outlinewidth": 0,
              "ticks": ""
             }
            },
            "type": "scattermapbox"
           }
          ],
          "scatterpolar": [
           {
            "marker": {
             "colorbar": {
              "outlinewidth": 0,
              "ticks": ""
             }
            },
            "type": "scatterpolar"
           }
          ],
          "scatterpolargl": [
           {
            "marker": {
             "colorbar": {
              "outlinewidth": 0,
              "ticks": ""
             }
            },
            "type": "scatterpolargl"
           }
          ],
          "scatterternary": [
           {
            "marker": {
             "colorbar": {
              "outlinewidth": 0,
              "ticks": ""
             }
            },
            "type": "scatterternary"
           }
          ],
          "surface": [
           {
            "colorbar": {
             "outlinewidth": 0,
             "ticks": ""
            },
            "colorscale": [
             [
              0,
              "#0d0887"
             ],
             [
              0.1111111111111111,
              "#46039f"
             ],
             [
              0.2222222222222222,
              "#7201a8"
             ],
             [
              0.3333333333333333,
              "#9c179e"
             ],
             [
              0.4444444444444444,
              "#bd3786"
             ],
             [
              0.5555555555555556,
              "#d8576b"
             ],
             [
              0.6666666666666666,
              "#ed7953"
             ],
             [
              0.7777777777777778,
              "#fb9f3a"
             ],
             [
              0.8888888888888888,
              "#fdca26"
             ],
             [
              1,
              "#f0f921"
             ]
            ],
            "type": "surface"
           }
          ],
          "table": [
           {
            "cells": {
             "fill": {
              "color": "#EBF0F8"
             },
             "line": {
              "color": "white"
             }
            },
            "header": {
             "fill": {
              "color": "#C8D4E3"
             },
             "line": {
              "color": "white"
             }
            },
            "type": "table"
           }
          ]
         },
         "layout": {
          "annotationdefaults": {
           "arrowcolor": "#2a3f5f",
           "arrowhead": 0,
           "arrowwidth": 1
          },
          "autotypenumbers": "strict",
          "coloraxis": {
           "colorbar": {
            "outlinewidth": 0,
            "ticks": ""
           }
          },
          "colorscale": {
           "diverging": [
            [
             0,
             "#8e0152"
            ],
            [
             0.1,
             "#c51b7d"
            ],
            [
             0.2,
             "#de77ae"
            ],
            [
             0.3,
             "#f1b6da"
            ],
            [
             0.4,
             "#fde0ef"
            ],
            [
             0.5,
             "#f7f7f7"
            ],
            [
             0.6,
             "#e6f5d0"
            ],
            [
             0.7,
             "#b8e186"
            ],
            [
             0.8,
             "#7fbc41"
            ],
            [
             0.9,
             "#4d9221"
            ],
            [
             1,
             "#276419"
            ]
           ],
           "sequential": [
            [
             0,
             "#0d0887"
            ],
            [
             0.1111111111111111,
             "#46039f"
            ],
            [
             0.2222222222222222,
             "#7201a8"
            ],
            [
             0.3333333333333333,
             "#9c179e"
            ],
            [
             0.4444444444444444,
             "#bd3786"
            ],
            [
             0.5555555555555556,
             "#d8576b"
            ],
            [
             0.6666666666666666,
             "#ed7953"
            ],
            [
             0.7777777777777778,
             "#fb9f3a"
            ],
            [
             0.8888888888888888,
             "#fdca26"
            ],
            [
             1,
             "#f0f921"
            ]
           ],
           "sequentialminus": [
            [
             0,
             "#0d0887"
            ],
            [
             0.1111111111111111,
             "#46039f"
            ],
            [
             0.2222222222222222,
             "#7201a8"
            ],
            [
             0.3333333333333333,
             "#9c179e"
            ],
            [
             0.4444444444444444,
             "#bd3786"
            ],
            [
             0.5555555555555556,
             "#d8576b"
            ],
            [
             0.6666666666666666,
             "#ed7953"
            ],
            [
             0.7777777777777778,
             "#fb9f3a"
            ],
            [
             0.8888888888888888,
             "#fdca26"
            ],
            [
             1,
             "#f0f921"
            ]
           ]
          },
          "colorway": [
           "#636efa",
           "#EF553B",
           "#00cc96",
           "#ab63fa",
           "#FFA15A",
           "#19d3f3",
           "#FF6692",
           "#B6E880",
           "#FF97FF",
           "#FECB52"
          ],
          "font": {
           "color": "#2a3f5f"
          },
          "geo": {
           "bgcolor": "white",
           "lakecolor": "white",
           "landcolor": "#E5ECF6",
           "showlakes": true,
           "showland": true,
           "subunitcolor": "white"
          },
          "hoverlabel": {
           "align": "left"
          },
          "hovermode": "closest",
          "mapbox": {
           "style": "light"
          },
          "paper_bgcolor": "white",
          "plot_bgcolor": "#E5ECF6",
          "polar": {
           "angularaxis": {
            "gridcolor": "white",
            "linecolor": "white",
            "ticks": ""
           },
           "bgcolor": "#E5ECF6",
           "radialaxis": {
            "gridcolor": "white",
            "linecolor": "white",
            "ticks": ""
           }
          },
          "scene": {
           "xaxis": {
            "backgroundcolor": "#E5ECF6",
            "gridcolor": "white",
            "gridwidth": 2,
            "linecolor": "white",
            "showbackground": true,
            "ticks": "",
            "zerolinecolor": "white"
           },
           "yaxis": {
            "backgroundcolor": "#E5ECF6",
            "gridcolor": "white",
            "gridwidth": 2,
            "linecolor": "white",
            "showbackground": true,
            "ticks": "",
            "zerolinecolor": "white"
           },
           "zaxis": {
            "backgroundcolor": "#E5ECF6",
            "gridcolor": "white",
            "gridwidth": 2,
            "linecolor": "white",
            "showbackground": true,
            "ticks": "",
            "zerolinecolor": "white"
           }
          },
          "shapedefaults": {
           "line": {
            "color": "#2a3f5f"
           }
          },
          "ternary": {
           "aaxis": {
            "gridcolor": "white",
            "linecolor": "white",
            "ticks": ""
           },
           "baxis": {
            "gridcolor": "white",
            "linecolor": "white",
            "ticks": ""
           },
           "bgcolor": "#E5ECF6",
           "caxis": {
            "gridcolor": "white",
            "linecolor": "white",
            "ticks": ""
           }
          },
          "title": {
           "x": 0.05
          },
          "xaxis": {
           "automargin": true,
           "gridcolor": "white",
           "linecolor": "white",
           "ticks": "",
           "title": {
            "standoff": 15
           },
           "zerolinecolor": "white",
           "zerolinewidth": 2
          },
          "yaxis": {
           "automargin": true,
           "gridcolor": "white",
           "linecolor": "white",
           "ticks": "",
           "title": {
            "standoff": 15
           },
           "zerolinecolor": "white",
           "zerolinewidth": 2
          }
         }
        },
        "title": {
         "text": "Prestaciones del Personal Policial - Puebla"
        },
        "width": 900,
        "xaxis": {
         "anchor": "y",
         "domain": [
          0,
          1
         ],
         "tickangle": -70,
         "tickfont": {
          "size": 10
         },
         "title": {
          "font": {
           "size": 12
          },
          "text": ""
         }
        },
        "yaxis": {
         "anchor": "x",
         "domain": [
          0,
          1
         ],
         "title": {
          "font": {
           "size": 12
          },
          "text": "Personal"
         }
        }
       }
      }
     },
     "metadata": {},
     "output_type": "display_data"
    }
   ],
   "source": [
    "myplot('Puebla')"
   ]
  }
 ],
 "metadata": {
  "language_info": {
   "name": "python"
  }
 },
 "nbformat": 4,
 "nbformat_minor": 5
}
